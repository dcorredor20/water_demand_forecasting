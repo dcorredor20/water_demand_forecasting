{
  "nbformat": 4,
  "nbformat_minor": 5,
  "metadata": {
    "kernelspec": {
      "display_name": "water_Demand_forecasting",
      "language": "python",
      "name": "water_demand_forecasting"
    },
    "language_info": {
      "codemirror_mode": {
        "name": "ipython",
        "version": 3
      },
      "file_extension": ".py",
      "mimetype": "text/x-python",
      "name": "python",
      "nbconvert_exporter": "python",
      "pygments_lexer": "ipython3",
      "version": "3.7.7"
    },
    "colab": {
      "name": "TCN.ipynb",
      "provenance": [],
      "collapsed_sections": [],
      "include_colab_link": true
    },
    "accelerator": "GPU"
  },
  "cells": [
    {
      "cell_type": "markdown",
      "metadata": {
        "id": "view-in-github",
        "colab_type": "text"
      },
      "source": [
        "<a href=\"https://colab.research.google.com/github/dcorredor20/water_demand_forecasting/blob/main/TCN.ipynb\" target=\"_parent\"><img src=\"https://colab.research.google.com/assets/colab-badge.svg\" alt=\"Open In Colab\"/></a>"
      ]
    },
    {
      "cell_type": "code",
      "metadata": {
        "id": "NzRRARMg-YAm",
        "colab": {
          "base_uri": "https://localhost:8080/"
        },
        "outputId": "84539d50-508d-42f0-d5a5-80e76b71f7c5"
      },
      "source": [
        "!pip install git+https://github.com/dcorredor20/water_demand_forecasting.git"
      ],
      "id": "NzRRARMg-YAm",
      "execution_count": 1,
      "outputs": [
        {
          "output_type": "stream",
          "text": [
            "Collecting git+https://github.com/dcorredor20/water_demand_forecasting.git\n",
            "  Cloning https://github.com/dcorredor20/water_demand_forecasting.git to /tmp/pip-req-build-u27lvti2\n",
            "  Running command git clone -q https://github.com/dcorredor20/water_demand_forecasting.git /tmp/pip-req-build-u27lvti2\n",
            "  Installing build dependencies ... \u001b[?25l\u001b[?25hdone\n",
            "  Getting requirements to build wheel ... \u001b[?25l\u001b[?25hdone\n",
            "    Preparing wheel metadata ... \u001b[?25l\u001b[?25hdone\n",
            "Requirement already satisfied: click<8.0.0,>=7.1.2 in /usr/local/lib/python3.7/dist-packages (from water-demand-forecasting==0.0.1) (7.1.2)\n",
            "Requirement already satisfied: matplotlib==3.1.3 in /usr/local/lib/python3.7/dist-packages (from water-demand-forecasting==0.0.1) (3.1.3)\n",
            "Requirement already satisfied: numpy<2.0.0,>=1.19.5 in /usr/local/lib/python3.7/dist-packages (from water-demand-forecasting==0.0.1) (1.19.5)\n",
            "Requirement already satisfied: sklearn<0.1,>=0.0 in /usr/local/lib/python3.7/dist-packages (from water-demand-forecasting==0.0.1) (0.0)\n",
            "Requirement already satisfied: pandas>=0.24.0 in /usr/local/lib/python3.7/dist-packages (from water-demand-forecasting==0.0.1) (1.1.5)\n",
            "Requirement already satisfied: pyyaml<6.0.0,>=5.3.1 in /usr/local/lib/python3.7/dist-packages (from water-demand-forecasting==0.0.1) (5.4.1)\n",
            "Requirement already satisfied: lint<2.0.0,>=1.2.1 in /usr/local/lib/python3.7/dist-packages (from water-demand-forecasting==0.0.1) (1.2.1)\n",
            "Requirement already satisfied: python-dateutil>=2.1 in /usr/local/lib/python3.7/dist-packages (from matplotlib==3.1.3->water-demand-forecasting==0.0.1) (2.8.1)\n",
            "Requirement already satisfied: cycler>=0.10 in /usr/local/lib/python3.7/dist-packages (from matplotlib==3.1.3->water-demand-forecasting==0.0.1) (0.10.0)\n",
            "Requirement already satisfied: pyparsing!=2.0.4,!=2.1.2,!=2.1.6,>=2.0.1 in /usr/local/lib/python3.7/dist-packages (from matplotlib==3.1.3->water-demand-forecasting==0.0.1) (2.4.7)\n",
            "Requirement already satisfied: kiwisolver>=1.0.1 in /usr/local/lib/python3.7/dist-packages (from matplotlib==3.1.3->water-demand-forecasting==0.0.1) (1.3.1)\n",
            "Requirement already satisfied: six in /usr/local/lib/python3.7/dist-packages (from cycler>=0.10->matplotlib==3.1.3->water-demand-forecasting==0.0.1) (1.15.0)\n",
            "Requirement already satisfied: pylint in /usr/local/lib/python3.7/dist-packages (from lint<2.0.0,>=1.2.1->water-demand-forecasting==0.0.1) (2.9.6)\n",
            "Requirement already satisfied: gitpython in /usr/local/lib/python3.7/dist-packages (from lint<2.0.0,>=1.2.1->water-demand-forecasting==0.0.1) (3.1.18)\n",
            "Requirement already satisfied: pytz>=2017.2 in /usr/local/lib/python3.7/dist-packages (from pandas>=0.24.0->water-demand-forecasting==0.0.1) (2018.9)\n",
            "Requirement already satisfied: scikit-learn in /usr/local/lib/python3.7/dist-packages (from sklearn<0.1,>=0.0->water-demand-forecasting==0.0.1) (0.22.2.post1)\n",
            "Requirement already satisfied: typing-extensions>=3.7.4.0 in /usr/local/lib/python3.7/dist-packages (from gitpython->lint<2.0.0,>=1.2.1->water-demand-forecasting==0.0.1) (3.7.4.3)\n",
            "Requirement already satisfied: gitdb<5,>=4.0.1 in /usr/local/lib/python3.7/dist-packages (from gitpython->lint<2.0.0,>=1.2.1->water-demand-forecasting==0.0.1) (4.0.7)\n",
            "Requirement already satisfied: smmap<5,>=3.0.1 in /usr/local/lib/python3.7/dist-packages (from gitdb<5,>=4.0.1->gitpython->lint<2.0.0,>=1.2.1->water-demand-forecasting==0.0.1) (4.0.0)\n",
            "Requirement already satisfied: toml>=0.7.1 in /usr/local/lib/python3.7/dist-packages (from pylint->lint<2.0.0,>=1.2.1->water-demand-forecasting==0.0.1) (0.10.2)\n",
            "Requirement already satisfied: astroid<2.7,>=2.6.5 in /usr/local/lib/python3.7/dist-packages (from pylint->lint<2.0.0,>=1.2.1->water-demand-forecasting==0.0.1) (2.6.6)\n",
            "Requirement already satisfied: mccabe<0.7,>=0.6 in /usr/local/lib/python3.7/dist-packages (from pylint->lint<2.0.0,>=1.2.1->water-demand-forecasting==0.0.1) (0.6.1)\n",
            "Requirement already satisfied: isort<6,>=4.2.5 in /usr/local/lib/python3.7/dist-packages (from pylint->lint<2.0.0,>=1.2.1->water-demand-forecasting==0.0.1) (5.9.3)\n",
            "Requirement already satisfied: lazy-object-proxy>=1.4.0 in /usr/local/lib/python3.7/dist-packages (from astroid<2.7,>=2.6.5->pylint->lint<2.0.0,>=1.2.1->water-demand-forecasting==0.0.1) (1.6.0)\n",
            "Requirement already satisfied: setuptools>=20.0 in /usr/local/lib/python3.7/dist-packages (from astroid<2.7,>=2.6.5->pylint->lint<2.0.0,>=1.2.1->water-demand-forecasting==0.0.1) (57.2.0)\n",
            "Requirement already satisfied: typed-ast<1.5,>=1.4.0 in /usr/local/lib/python3.7/dist-packages (from astroid<2.7,>=2.6.5->pylint->lint<2.0.0,>=1.2.1->water-demand-forecasting==0.0.1) (1.4.3)\n",
            "Requirement already satisfied: wrapt<1.13,>=1.11 in /usr/local/lib/python3.7/dist-packages (from astroid<2.7,>=2.6.5->pylint->lint<2.0.0,>=1.2.1->water-demand-forecasting==0.0.1) (1.12.1)\n",
            "Requirement already satisfied: joblib>=0.11 in /usr/local/lib/python3.7/dist-packages (from scikit-learn->sklearn<0.1,>=0.0->water-demand-forecasting==0.0.1) (1.0.1)\n",
            "Requirement already satisfied: scipy>=0.17.0 in /usr/local/lib/python3.7/dist-packages (from scikit-learn->sklearn<0.1,>=0.0->water-demand-forecasting==0.0.1) (1.4.1)\n"
          ],
          "name": "stdout"
        }
      ]
    },
    {
      "cell_type": "code",
      "metadata": {
        "colab": {
          "base_uri": "https://localhost:8080/"
        },
        "id": "k3TffQakj1cT",
        "outputId": "f81d1184-ba10-41e4-997e-747652f0bddc"
      },
      "source": [
        "from google.colab import drive\n",
        "drive.mount('/content/gdrive', force_remount=True)\n",
        "\n",
        "!ls gdrive "
      ],
      "id": "k3TffQakj1cT",
      "execution_count": 2,
      "outputs": [
        {
          "output_type": "stream",
          "text": [
            "Mounted at /content/gdrive\n",
            "MyDrive\n"
          ],
          "name": "stdout"
        }
      ]
    },
    {
      "cell_type": "code",
      "metadata": {
        "id": "b006822c"
      },
      "source": [
        "import matplotlib.pyplot as plt\n",
        "%matplotlib inline\n",
        "from water_demand_forecasting import custom_plots\n",
        "from water_demand_forecasting.wdf_model import WDF_Model\n",
        "import tensorflow\n",
        "import time\n",
        "from tensorflow.keras.layers import Input, Dense, SimpleRNN, GRU, LSTM, Flatten, Dropout, Conv1D, Concatenate,BatchNormalization, ReLU, Add, ZeroPadding1D\n",
        "from tensorflow.keras.models import Model, Sequential\n",
        "from tensorflow.keras.optimizers import Adam\n",
        "from tensorflow.keras.callbacks import EarlyStopping, ModelCheckpoint, ReduceLROnPlateau\n",
        "from tensorflow.keras.callbacks import *\n",
        "from sklearn.preprocessing import StandardScaler, MinMaxScaler\n",
        "from sklearn.metrics import mean_absolute_error, mean_squared_error, r2_score\n",
        "import pandas as pd\n",
        "import numpy as np"
      ],
      "id": "b006822c",
      "execution_count": 40,
      "outputs": []
    },
    {
      "cell_type": "code",
      "metadata": {
        "id": "70ac6129"
      },
      "source": [
        "# variables_model\n",
        "VARIABLES = [\"case_study\"]\n",
        "CONFIG = {\n",
        "    \"case_study\":\n",
        "      {\"train\": '/content/gdrive/MyDrive/DataThesis/DATI/Ferrara/Qh_CS3_14.txt',\n",
        "      \"test\": '/content/gdrive/MyDrive/DataThesis/DATI/Ferrara/Qh_CS3_15.txt'},\n",
        "      \"days\": \n",
        "      {\"train\": 'gdrive/MyDrive/DataThesis/Meteo/days2014.csv',\n",
        "      \"test\": 'gdrive/MyDrive/DataThesis/Meteo/days2015.csv'},\n",
        "\n",
        "    \"precipitation\":\n",
        "      {\"train\": 'gdrive/MyDrive/DataThesis/Meteo/Prec2014CS2.csv',\n",
        "      \"test\": 'gdrive/MyDrive/DataThesis/Meteo/Prec2015CS2.csv'},\n",
        "\n",
        "    \"relative_humidity\":\n",
        "      {\"train\": 'gdrive/MyDrive/DataThesis/Meteo/RH2014CS2.csv',\n",
        "      \"test\": 'gdrive/MyDrive/DataThesis/Meteo/RH2015CS2.csv'},\n",
        "\n",
        "    \"temperature\":\n",
        "      {\"train\": 'gdrive/MyDrive/DataThesis/Meteo/MaxTem2014CS2.csv',\n",
        "      \"test\": 'gdrive/MyDrive/DataThesis/Meteo/MaxTem2015CS2.csv'}} \n",
        "T = 168"
      ],
      "id": "70ac6129",
      "execution_count": 41,
      "outputs": []
    },
    {
      "cell_type": "code",
      "metadata": {
        "id": "52b3ca5f"
      },
      "source": [
        "Xtra, Ytra, Xval, Yval, Xtest, Ytest, scx, scy = WDF_Model.data_preprocessing(\n",
        "    VARIABLES, CONFIG, lookback=T\n",
        ")"
      ],
      "id": "52b3ca5f",
      "execution_count": 42,
      "outputs": []
    },
    {
      "cell_type": "code",
      "metadata": {
        "id": "rPaXFGaSAH87"
      },
      "source": [
        "earlyStopping= EarlyStopping(monitor='val_loss', patience=10, verbose=1,  min_delta=1e-4, mode='min')\n",
        "mcp_save = ModelCheckpoint('mdl_wts.hdf5', save_best_only=True, monitor='val_loss', mode='min', save_weights_only=True)\n",
        "lr_reduced = ReduceLROnPlateau(monitor='val_loss', factor=0.5, patience=5, verbose=1, min_delta=1e-3, mode='min')\n",
        "callbacks = [earlyStopping, mcp_save, lr_reduced]"
      ],
      "id": "rPaXFGaSAH87",
      "execution_count": 43,
      "outputs": []
    },
    {
      "cell_type": "code",
      "metadata": {
        "id": "6AEyG42UVoJ_"
      },
      "source": [
        "dilation_rates = (2**exp for exp in range(0, 5))\n",
        "filter_size_block = 2\n",
        "filter_size_branch = 1\n",
        "number_filters = 32\n",
        "dropout_rate = 0.2\n",
        "outputs = 24\n",
        "loss = 'mae'\n",
        "metrics = 'mse'\n",
        "epochs = 500\n",
        "batch_size = 32\n",
        "learning_rate = 0.0005"
      ],
      "id": "6AEyG42UVoJ_",
      "execution_count": 44,
      "outputs": []
    },
    {
      "cell_type": "code",
      "metadata": {
        "colab": {
          "base_uri": "https://localhost:8080/"
        },
        "id": "oL6AHZvQUvnK",
        "outputId": "f6485285-f120-4178-9917-618d812b3cb3"
      },
      "source": [
        "i = Input(shape=(T,len(VARIABLES)), name='Input layer')\n",
        "\n",
        "x01 = ZeroPadding1D(padding=(filter_size_block-1,0))(i)\n",
        "\n",
        "concatenated = x01\n",
        "for d in dilation_rates:\n",
        "  x1 = Conv1D(filters=number_filters, kernel_size=(filter_size_branch))(concatenated)\n",
        "\n",
        "  x2 = Conv1D(number_filters, kernel_size=(filter_size_block), padding='causal', dilation_rate=d)(concatenated)\n",
        "  x2 = BatchNormalization()(x2)\n",
        "  x2 = ReLU()(x2)\n",
        "  x2 = Dropout(rate=dropout_rate)(x2)\n",
        "  concatenated = Add()([x2, x1])\n",
        "   \n",
        "x = Flatten()(concatenated)\n",
        "\n",
        "x = Dense(units=outputs, activation='linear', name='Output')(x)\n",
        "\n",
        "model = Model(i, x)\n",
        "print(model.summary())\n",
        "\n",
        "# compile the model\n",
        "optimizer = Adam(learning_rate = learning_rate)\n",
        "model.compile(optimizer=optimizer, loss=loss, metrics=[metrics])"
      ],
      "id": "oL6AHZvQUvnK",
      "execution_count": 45,
      "outputs": [
        {
          "output_type": "stream",
          "text": [
            "Model: \"model_3\"\n",
            "__________________________________________________________________________________________________\n",
            "Layer (type)                    Output Shape         Param #     Connected to                     \n",
            "==================================================================================================\n",
            "Input layer (InputLayer)        [(None, 168, 1)]     0                                            \n",
            "__________________________________________________________________________________________________\n",
            "zero_padding1d_3 (ZeroPadding1D (None, 169, 1)       0           Input layer[0][0]                \n",
            "__________________________________________________________________________________________________\n",
            "conv1d_31 (Conv1D)              (None, 169, 32)      96          zero_padding1d_3[0][0]           \n",
            "__________________________________________________________________________________________________\n",
            "batch_normalization_15 (BatchNo (None, 169, 32)      128         conv1d_31[0][0]                  \n",
            "__________________________________________________________________________________________________\n",
            "re_lu_15 (ReLU)                 (None, 169, 32)      0           batch_normalization_15[0][0]     \n",
            "__________________________________________________________________________________________________\n",
            "dropout_15 (Dropout)            (None, 169, 32)      0           re_lu_15[0][0]                   \n",
            "__________________________________________________________________________________________________\n",
            "conv1d_30 (Conv1D)              (None, 169, 32)      64          zero_padding1d_3[0][0]           \n",
            "__________________________________________________________________________________________________\n",
            "add_15 (Add)                    (None, 169, 32)      0           dropout_15[0][0]                 \n",
            "                                                                 conv1d_30[0][0]                  \n",
            "__________________________________________________________________________________________________\n",
            "conv1d_33 (Conv1D)              (None, 169, 32)      2080        add_15[0][0]                     \n",
            "__________________________________________________________________________________________________\n",
            "batch_normalization_16 (BatchNo (None, 169, 32)      128         conv1d_33[0][0]                  \n",
            "__________________________________________________________________________________________________\n",
            "re_lu_16 (ReLU)                 (None, 169, 32)      0           batch_normalization_16[0][0]     \n",
            "__________________________________________________________________________________________________\n",
            "dropout_16 (Dropout)            (None, 169, 32)      0           re_lu_16[0][0]                   \n",
            "__________________________________________________________________________________________________\n",
            "conv1d_32 (Conv1D)              (None, 169, 32)      1056        add_15[0][0]                     \n",
            "__________________________________________________________________________________________________\n",
            "add_16 (Add)                    (None, 169, 32)      0           dropout_16[0][0]                 \n",
            "                                                                 conv1d_32[0][0]                  \n",
            "__________________________________________________________________________________________________\n",
            "conv1d_35 (Conv1D)              (None, 169, 32)      2080        add_16[0][0]                     \n",
            "__________________________________________________________________________________________________\n",
            "batch_normalization_17 (BatchNo (None, 169, 32)      128         conv1d_35[0][0]                  \n",
            "__________________________________________________________________________________________________\n",
            "re_lu_17 (ReLU)                 (None, 169, 32)      0           batch_normalization_17[0][0]     \n",
            "__________________________________________________________________________________________________\n",
            "dropout_17 (Dropout)            (None, 169, 32)      0           re_lu_17[0][0]                   \n",
            "__________________________________________________________________________________________________\n",
            "conv1d_34 (Conv1D)              (None, 169, 32)      1056        add_16[0][0]                     \n",
            "__________________________________________________________________________________________________\n",
            "add_17 (Add)                    (None, 169, 32)      0           dropout_17[0][0]                 \n",
            "                                                                 conv1d_34[0][0]                  \n",
            "__________________________________________________________________________________________________\n",
            "conv1d_37 (Conv1D)              (None, 169, 32)      2080        add_17[0][0]                     \n",
            "__________________________________________________________________________________________________\n",
            "batch_normalization_18 (BatchNo (None, 169, 32)      128         conv1d_37[0][0]                  \n",
            "__________________________________________________________________________________________________\n",
            "re_lu_18 (ReLU)                 (None, 169, 32)      0           batch_normalization_18[0][0]     \n",
            "__________________________________________________________________________________________________\n",
            "dropout_18 (Dropout)            (None, 169, 32)      0           re_lu_18[0][0]                   \n",
            "__________________________________________________________________________________________________\n",
            "conv1d_36 (Conv1D)              (None, 169, 32)      1056        add_17[0][0]                     \n",
            "__________________________________________________________________________________________________\n",
            "add_18 (Add)                    (None, 169, 32)      0           dropout_18[0][0]                 \n",
            "                                                                 conv1d_36[0][0]                  \n",
            "__________________________________________________________________________________________________\n",
            "conv1d_39 (Conv1D)              (None, 169, 32)      2080        add_18[0][0]                     \n",
            "__________________________________________________________________________________________________\n",
            "batch_normalization_19 (BatchNo (None, 169, 32)      128         conv1d_39[0][0]                  \n",
            "__________________________________________________________________________________________________\n",
            "re_lu_19 (ReLU)                 (None, 169, 32)      0           batch_normalization_19[0][0]     \n",
            "__________________________________________________________________________________________________\n",
            "dropout_19 (Dropout)            (None, 169, 32)      0           re_lu_19[0][0]                   \n",
            "__________________________________________________________________________________________________\n",
            "conv1d_38 (Conv1D)              (None, 169, 32)      1056        add_18[0][0]                     \n",
            "__________________________________________________________________________________________________\n",
            "add_19 (Add)                    (None, 169, 32)      0           dropout_19[0][0]                 \n",
            "                                                                 conv1d_38[0][0]                  \n",
            "__________________________________________________________________________________________________\n",
            "flatten_3 (Flatten)             (None, 5408)         0           add_19[0][0]                     \n",
            "__________________________________________________________________________________________________\n",
            "Output (Dense)                  (None, 24)           129816      flatten_3[0][0]                  \n",
            "==================================================================================================\n",
            "Total params: 143,160\n",
            "Trainable params: 142,840\n",
            "Non-trainable params: 320\n",
            "__________________________________________________________________________________________________\n",
            "None\n"
          ],
          "name": "stdout"
        }
      ]
    },
    {
      "cell_type": "code",
      "metadata": {
        "colab": {
          "base_uri": "https://localhost:8080/"
        },
        "id": "YMfpymI9U6A3",
        "outputId": "192de5d0-1a68-4f55-e2e6-575619583627"
      },
      "source": [
        "start = time.time()\n",
        "r = model.fit(Xtra, Ytra, verbose = 1, validation_data=(Xval, Yval), epochs=epochs, callbacks=callbacks, batch_size=batch_size)\n",
        "end = time.time()\n",
        "print('Total training time: ', end-start)"
      ],
      "id": "YMfpymI9U6A3",
      "execution_count": 46,
      "outputs": [
        {
          "output_type": "stream",
          "text": [
            "Epoch 1/500\n",
            "201/201 [==============================] - 4s 13ms/step - loss: 0.8757 - mse: 1.3297 - val_loss: 0.2397 - val_mse: 0.0939\n",
            "Epoch 2/500\n",
            "201/201 [==============================] - 2s 10ms/step - loss: 0.4049 - mse: 0.2658 - val_loss: 0.1296 - val_mse: 0.0258\n",
            "Epoch 3/500\n",
            "201/201 [==============================] - 2s 10ms/step - loss: 0.2418 - mse: 0.0940 - val_loss: 0.0802 - val_mse: 0.0105\n",
            "Epoch 4/500\n",
            "201/201 [==============================] - 2s 10ms/step - loss: 0.1605 - mse: 0.0410 - val_loss: 0.0584 - val_mse: 0.0058\n",
            "Epoch 5/500\n",
            "201/201 [==============================] - 2s 10ms/step - loss: 0.1143 - mse: 0.0208 - val_loss: 0.0535 - val_mse: 0.0049\n",
            "Epoch 6/500\n",
            "201/201 [==============================] - 2s 11ms/step - loss: 0.0889 - mse: 0.0126 - val_loss: 0.0464 - val_mse: 0.0038\n",
            "Epoch 7/500\n",
            "201/201 [==============================] - 2s 10ms/step - loss: 0.0737 - mse: 0.0088 - val_loss: 0.0477 - val_mse: 0.0041\n",
            "Epoch 8/500\n",
            "201/201 [==============================] - 2s 10ms/step - loss: 0.0650 - mse: 0.0069 - val_loss: 0.0456 - val_mse: 0.0036\n",
            "Epoch 9/500\n",
            "201/201 [==============================] - 2s 10ms/step - loss: 0.0599 - mse: 0.0059 - val_loss: 0.0434 - val_mse: 0.0034\n",
            "Epoch 10/500\n",
            "201/201 [==============================] - 2s 11ms/step - loss: 0.0553 - mse: 0.0051 - val_loss: 0.0434 - val_mse: 0.0034\n",
            "Epoch 11/500\n",
            "201/201 [==============================] - 2s 11ms/step - loss: 0.0519 - mse: 0.0045 - val_loss: 0.0397 - val_mse: 0.0029\n",
            "Epoch 12/500\n",
            "201/201 [==============================] - 2s 12ms/step - loss: 0.0506 - mse: 0.0043 - val_loss: 0.0388 - val_mse: 0.0028\n",
            "Epoch 13/500\n",
            "201/201 [==============================] - 2s 11ms/step - loss: 0.0484 - mse: 0.0040 - val_loss: 0.0431 - val_mse: 0.0034\n",
            "Epoch 14/500\n",
            "201/201 [==============================] - 2s 11ms/step - loss: 0.0463 - mse: 0.0037 - val_loss: 0.0370 - val_mse: 0.0026\n",
            "Epoch 15/500\n",
            "201/201 [==============================] - 2s 12ms/step - loss: 0.0456 - mse: 0.0036 - val_loss: 0.0425 - val_mse: 0.0032\n",
            "Epoch 16/500\n",
            "201/201 [==============================] - 2s 11ms/step - loss: 0.0444 - mse: 0.0035 - val_loss: 0.0435 - val_mse: 0.0034\n",
            "Epoch 17/500\n",
            "201/201 [==============================] - 2s 12ms/step - loss: 0.0430 - mse: 0.0033 - val_loss: 0.0403 - val_mse: 0.0030\n",
            "Epoch 18/500\n",
            "201/201 [==============================] - 2s 11ms/step - loss: 0.0423 - mse: 0.0032 - val_loss: 0.0364 - val_mse: 0.0025\n",
            "Epoch 19/500\n",
            "201/201 [==============================] - 2s 11ms/step - loss: 0.0423 - mse: 0.0032 - val_loss: 0.0353 - val_mse: 0.0025\n",
            "Epoch 20/500\n",
            "201/201 [==============================] - 2s 11ms/step - loss: 0.0400 - mse: 0.0029 - val_loss: 0.0338 - val_mse: 0.0023\n",
            "Epoch 21/500\n",
            "201/201 [==============================] - 2s 11ms/step - loss: 0.0395 - mse: 0.0028 - val_loss: 0.0336 - val_mse: 0.0022\n",
            "Epoch 22/500\n",
            "201/201 [==============================] - 2s 10ms/step - loss: 0.0390 - mse: 0.0027 - val_loss: 0.0342 - val_mse: 0.0023\n",
            "Epoch 23/500\n",
            "201/201 [==============================] - 2s 10ms/step - loss: 0.0382 - mse: 0.0027 - val_loss: 0.0341 - val_mse: 0.0023\n",
            "Epoch 24/500\n",
            "201/201 [==============================] - 2s 11ms/step - loss: 0.0375 - mse: 0.0026 - val_loss: 0.0328 - val_mse: 0.0022\n",
            "Epoch 25/500\n",
            "201/201 [==============================] - 2s 11ms/step - loss: 0.0373 - mse: 0.0025 - val_loss: 0.0331 - val_mse: 0.0022\n",
            "\n",
            "Epoch 00025: ReduceLROnPlateau reducing learning rate to 0.0002500000118743628.\n",
            "Epoch 26/500\n",
            "201/201 [==============================] - 2s 10ms/step - loss: 0.0352 - mse: 0.0023 - val_loss: 0.0314 - val_mse: 0.0020\n",
            "Epoch 27/500\n",
            "201/201 [==============================] - 2s 11ms/step - loss: 0.0347 - mse: 0.0023 - val_loss: 0.0307 - val_mse: 0.0020\n",
            "Epoch 28/500\n",
            "201/201 [==============================] - 2s 10ms/step - loss: 0.0339 - mse: 0.0022 - val_loss: 0.0315 - val_mse: 0.0020\n",
            "Epoch 29/500\n",
            "201/201 [==============================] - 2s 11ms/step - loss: 0.0340 - mse: 0.0022 - val_loss: 0.0313 - val_mse: 0.0020\n",
            "Epoch 30/500\n",
            "201/201 [==============================] - 2s 10ms/step - loss: 0.0338 - mse: 0.0022 - val_loss: 0.0303 - val_mse: 0.0019\n",
            "Epoch 31/500\n",
            "201/201 [==============================] - 2s 11ms/step - loss: 0.0334 - mse: 0.0022 - val_loss: 0.0303 - val_mse: 0.0020\n",
            "Epoch 32/500\n",
            "201/201 [==============================] - 2s 10ms/step - loss: 0.0331 - mse: 0.0021 - val_loss: 0.0311 - val_mse: 0.0020\n",
            "Epoch 33/500\n",
            "201/201 [==============================] - 2s 11ms/step - loss: 0.0333 - mse: 0.0021 - val_loss: 0.0308 - val_mse: 0.0020\n",
            "Epoch 34/500\n",
            "201/201 [==============================] - 2s 10ms/step - loss: 0.0332 - mse: 0.0021 - val_loss: 0.0310 - val_mse: 0.0020\n",
            "Epoch 35/500\n",
            "201/201 [==============================] - 2s 10ms/step - loss: 0.0327 - mse: 0.0021 - val_loss: 0.0309 - val_mse: 0.0020\n",
            "\n",
            "Epoch 00035: ReduceLROnPlateau reducing learning rate to 0.0001250000059371814.\n",
            "Epoch 36/500\n",
            "201/201 [==============================] - 2s 10ms/step - loss: 0.0316 - mse: 0.0020 - val_loss: 0.0293 - val_mse: 0.0019\n",
            "Epoch 37/500\n",
            "201/201 [==============================] - 2s 10ms/step - loss: 0.0316 - mse: 0.0020 - val_loss: 0.0300 - val_mse: 0.0019\n",
            "Epoch 38/500\n",
            "201/201 [==============================] - 2s 11ms/step - loss: 0.0315 - mse: 0.0020 - val_loss: 0.0306 - val_mse: 0.0019\n",
            "Epoch 39/500\n",
            "201/201 [==============================] - 2s 11ms/step - loss: 0.0313 - mse: 0.0020 - val_loss: 0.0302 - val_mse: 0.0019\n",
            "Epoch 40/500\n",
            "201/201 [==============================] - 2s 12ms/step - loss: 0.0310 - mse: 0.0019 - val_loss: 0.0302 - val_mse: 0.0019\n",
            "\n",
            "Epoch 00040: ReduceLROnPlateau reducing learning rate to 6.25000029685907e-05.\n",
            "Epoch 41/500\n",
            "201/201 [==============================] - 2s 11ms/step - loss: 0.0305 - mse: 0.0019 - val_loss: 0.0288 - val_mse: 0.0018\n",
            "Epoch 42/500\n",
            "201/201 [==============================] - 2s 11ms/step - loss: 0.0303 - mse: 0.0019 - val_loss: 0.0289 - val_mse: 0.0018\n",
            "Epoch 43/500\n",
            "201/201 [==============================] - 2s 11ms/step - loss: 0.0302 - mse: 0.0019 - val_loss: 0.0287 - val_mse: 0.0018\n",
            "Epoch 44/500\n",
            "201/201 [==============================] - 2s 11ms/step - loss: 0.0302 - mse: 0.0019 - val_loss: 0.0290 - val_mse: 0.0018\n",
            "Epoch 45/500\n",
            "201/201 [==============================] - 2s 11ms/step - loss: 0.0302 - mse: 0.0019 - val_loss: 0.0287 - val_mse: 0.0018\n",
            "Epoch 46/500\n",
            "201/201 [==============================] - 2s 11ms/step - loss: 0.0300 - mse: 0.0018 - val_loss: 0.0290 - val_mse: 0.0018\n",
            "\n",
            "Epoch 00046: ReduceLROnPlateau reducing learning rate to 3.125000148429535e-05.\n",
            "Epoch 47/500\n",
            "201/201 [==============================] - 2s 12ms/step - loss: 0.0296 - mse: 0.0018 - val_loss: 0.0285 - val_mse: 0.0018\n",
            "Epoch 48/500\n",
            "201/201 [==============================] - 2s 12ms/step - loss: 0.0296 - mse: 0.0018 - val_loss: 0.0284 - val_mse: 0.0018\n",
            "Epoch 49/500\n",
            "201/201 [==============================] - 2s 11ms/step - loss: 0.0294 - mse: 0.0018 - val_loss: 0.0284 - val_mse: 0.0018\n",
            "Epoch 50/500\n",
            "201/201 [==============================] - 2s 11ms/step - loss: 0.0294 - mse: 0.0018 - val_loss: 0.0282 - val_mse: 0.0018\n",
            "Epoch 51/500\n",
            "201/201 [==============================] - 2s 11ms/step - loss: 0.0294 - mse: 0.0018 - val_loss: 0.0283 - val_mse: 0.0018\n",
            "\n",
            "Epoch 00051: ReduceLROnPlateau reducing learning rate to 1.5625000742147677e-05.\n",
            "Epoch 52/500\n",
            "201/201 [==============================] - 2s 11ms/step - loss: 0.0292 - mse: 0.0018 - val_loss: 0.0282 - val_mse: 0.0018\n",
            "Epoch 53/500\n",
            "201/201 [==============================] - 2s 11ms/step - loss: 0.0291 - mse: 0.0018 - val_loss: 0.0282 - val_mse: 0.0018\n",
            "Epoch 54/500\n",
            "201/201 [==============================] - 2s 11ms/step - loss: 0.0292 - mse: 0.0018 - val_loss: 0.0282 - val_mse: 0.0018\n",
            "Epoch 55/500\n",
            "201/201 [==============================] - 2s 10ms/step - loss: 0.0292 - mse: 0.0018 - val_loss: 0.0283 - val_mse: 0.0018\n",
            "Epoch 56/500\n",
            "201/201 [==============================] - 2s 11ms/step - loss: 0.0291 - mse: 0.0018 - val_loss: 0.0283 - val_mse: 0.0018\n",
            "\n",
            "Epoch 00056: ReduceLROnPlateau reducing learning rate to 7.812500371073838e-06.\n",
            "Epoch 57/500\n",
            "201/201 [==============================] - 2s 11ms/step - loss: 0.0290 - mse: 0.0018 - val_loss: 0.0282 - val_mse: 0.0018\n",
            "Epoch 58/500\n",
            "201/201 [==============================] - 2s 10ms/step - loss: 0.0289 - mse: 0.0018 - val_loss: 0.0281 - val_mse: 0.0017\n",
            "Epoch 59/500\n",
            "201/201 [==============================] - 2s 10ms/step - loss: 0.0289 - mse: 0.0018 - val_loss: 0.0281 - val_mse: 0.0017\n",
            "Epoch 60/500\n",
            "201/201 [==============================] - 2s 10ms/step - loss: 0.0289 - mse: 0.0017 - val_loss: 0.0282 - val_mse: 0.0018\n",
            "Epoch 61/500\n",
            "201/201 [==============================] - 2s 11ms/step - loss: 0.0289 - mse: 0.0017 - val_loss: 0.0282 - val_mse: 0.0018\n",
            "\n",
            "Epoch 00061: ReduceLROnPlateau reducing learning rate to 3.906250185536919e-06.\n",
            "Epoch 62/500\n",
            "201/201 [==============================] - 2s 11ms/step - loss: 0.0288 - mse: 0.0017 - val_loss: 0.0280 - val_mse: 0.0017\n",
            "Epoch 63/500\n",
            "201/201 [==============================] - 2s 11ms/step - loss: 0.0289 - mse: 0.0018 - val_loss: 0.0281 - val_mse: 0.0017\n",
            "Epoch 64/500\n",
            "201/201 [==============================] - 2s 11ms/step - loss: 0.0288 - mse: 0.0017 - val_loss: 0.0281 - val_mse: 0.0017\n",
            "Epoch 65/500\n",
            "201/201 [==============================] - 2s 11ms/step - loss: 0.0288 - mse: 0.0017 - val_loss: 0.0281 - val_mse: 0.0017\n",
            "Epoch 66/500\n",
            "201/201 [==============================] - 2s 11ms/step - loss: 0.0288 - mse: 0.0017 - val_loss: 0.0280 - val_mse: 0.0017\n",
            "\n",
            "Epoch 00066: ReduceLROnPlateau reducing learning rate to 1.9531250927684596e-06.\n",
            "Epoch 67/500\n",
            "201/201 [==============================] - 2s 10ms/step - loss: 0.0289 - mse: 0.0018 - val_loss: 0.0280 - val_mse: 0.0017\n",
            "Epoch 68/500\n",
            "201/201 [==============================] - 2s 11ms/step - loss: 0.0288 - mse: 0.0017 - val_loss: 0.0280 - val_mse: 0.0017\n",
            "Epoch 00068: early stopping\n",
            "Total training time:  152.9139711856842\n"
          ],
          "name": "stdout"
        }
      ]
    },
    {
      "cell_type": "code",
      "metadata": {
        "id": "gObNyktsAUG4",
        "colab": {
          "base_uri": "https://localhost:8080/",
          "height": 374
        },
        "outputId": "95d07120-34c1-41c6-ce85-9d936a0d84d9"
      },
      "source": [
        "custom_plots.loss_plot(r, 'TCN', color = 'g')"
      ],
      "id": "gObNyktsAUG4",
      "execution_count": 47,
      "outputs": [
        {
          "output_type": "display_data",
          "data": {
            "image/png": "[encoded data removed]",
            "text/plain": [
              "<Figure size 1296x432 with 2 Axes>"
            ]
          },
          "metadata": {
            "tags": [],
            "needs_background": "light"
          }
        }
      ]
    },
    {
      "cell_type": "code",
      "metadata": {
        "id": "KN5GSlvoVV5V"
      },
      "source": [
        "model.load_weights('mdl_wts.hdf5')"
      ],
      "id": "KN5GSlvoVV5V",
      "execution_count": 48,
      "outputs": []
    },
    {
      "cell_type": "code",
      "metadata": {
        "id": "TGg6Bu0mBHi0",
        "colab": {
          "base_uri": "https://localhost:8080/"
        },
        "outputId": "6f1bf086-ece2-45b2-af93-e8d50b2dc59d"
      },
      "source": [
        "def print_metrics(y,ypred,dataset):\n",
        "  y = scy.inverse_transform(y) \n",
        "  ypred = scy.inverse_transform(ypred)\n",
        "  print(f'{dataset}\\t\\tRMSE:{mean_squared_error(y,ypred)**0.5:.3f}\\tMAE:{mean_absolute_error(y,ypred):.3f}\\tR2:{r2_score(y,ypred):.3f}')\n",
        "\n",
        "print_metrics(Ytra.reshape(-1,1),model.predict(Xtra).reshape(-1,1),'Train')\n",
        "print_metrics(Yval.reshape(-1,1),model.predict(Xval).reshape(-1,1),'Val')\n",
        "print_metrics(Ytest.reshape(-1,1),model.predict(Xtest).reshape(-1,1),'Test')"
      ],
      "id": "TGg6Bu0mBHi0",
      "execution_count": 49,
      "outputs": [
        {
          "output_type": "stream",
          "text": [
            "Train\t\tRMSE:4.561\tMAE:3.002\tR2:0.971\n",
            "Val\t\tRMSE:4.895\tMAE:3.284\tR2:0.967\n",
            "Test\t\tRMSE:5.021\tMAE:3.503\tR2:0.963\n"
          ],
          "name": "stdout"
        }
      ]
    },
    {
      "cell_type": "code",
      "metadata": {
        "id": "BWg2pW82aVeq",
        "colab": {
          "base_uri": "https://localhost:8080/"
        },
        "outputId": "65e0ea3f-621a-429e-c7a1-b87fc159df45"
      },
      "source": [
        "Y_hatval = model.predict(Xval)\n",
        "Y_val = scy.inverse_transform(Yval)\n",
        "Yhatval = scy.inverse_transform(Y_hatval)\n",
        "dat1y1 = pd.DataFrame(Y_val)\n",
        "dat2y1 = pd.DataFrame(Yhatval)\n",
        "e = 100*np.sum(np.abs((dat1y1 - dat2y1)/np.mean(dat1y1, axis = 0)), axis = 0)/len(dat1y1)\n",
        "print(f'MAE% Y1 = {e.mean()}')"
      ],
      "id": "BWg2pW82aVeq",
      "execution_count": 50,
      "outputs": [
        {
          "output_type": "stream",
          "text": [
            "MAE% Y1 = 3.279027073264569\n"
          ],
          "name": "stdout"
        }
      ]
    },
    {
      "cell_type": "code",
      "metadata": {
        "id": "2IhNBgDQCwHJ",
        "colab": {
          "base_uri": "https://localhost:8080/"
        },
        "outputId": "a2dead75-01ce-4af3-e086-9fa5b06b045a"
      },
      "source": [
        "Y_hat = model.predict(Xtest)\n",
        "Y_test = scy.inverse_transform(Ytest)\n",
        "Yhat = scy.inverse_transform(Y_hat)\n",
        "dat1y2 = pd.DataFrame(Y_test)\n",
        "dat2y2 = pd.DataFrame(Yhat)\n",
        "e = 100*np.sum(np.abs((dat1y2 - dat2y2)/np.mean(dat1y2, axis = 0)), axis = 0)/len(dat1y2)\n",
        "print(f'MAE% Y2 = {e.mean()}')"
      ],
      "id": "2IhNBgDQCwHJ",
      "execution_count": 51,
      "outputs": [
        {
          "output_type": "stream",
          "text": [
            "MAE% Y2 = 3.6505722436373875\n"
          ],
          "name": "stdout"
        }
      ]
    },
    {
      "cell_type": "code",
      "metadata": {
        "id": "MFGOvqrtG22k"
      },
      "source": [
        ""
      ],
      "id": "MFGOvqrtG22k",
      "execution_count": null,
      "outputs": []
    }
  ]
}