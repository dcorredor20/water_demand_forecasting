{
  "nbformat": 4,
  "nbformat_minor": 0,
  "metadata": {
    "accelerator": "GPU",
    "colab": {
      "name": "Global_model.ipynb",
      "provenance": [],
      "collapsed_sections": [],
      "include_colab_link": true
    },
    "kernelspec": {
      "display_name": "Python 3",
      "name": "python3"
    },
    "language_info": {
      "name": "python"
    }
  },
  "cells": [
    {
      "cell_type": "markdown",
      "metadata": {
        "id": "view-in-github",
        "colab_type": "text"
      },
      "source": [
        "<a href=\"https://colab.research.google.com/github/dcorredor20/water_demand_forecasting/blob/main/Global_model.ipynb\" target=\"_parent\"><img src=\"https://colab.research.google.com/assets/colab-badge.svg\" alt=\"Open In Colab\"/></a>"
      ]
    },
    {
      "cell_type": "code",
      "metadata": {
        "colab": {
          "base_uri": "https://localhost:8080/"
        },
        "id": "ekW44SxadeCw",
        "outputId": "7ef49c3a-027e-4f39-fcd4-884040e1e0c3"
      },
      "source": [
        "!pip install git+https://github.com/dcorredor20/water_demand_forecasting.git"
      ],
      "execution_count": 1,
      "outputs": [
        {
          "output_type": "stream",
          "text": [
            "Collecting git+https://github.com/dcorredor20/water_demand_forecasting.git\n",
            "  Cloning https://github.com/dcorredor20/water_demand_forecasting.git to /tmp/pip-req-build-898tphd_\n",
            "  Running command git clone -q https://github.com/dcorredor20/water_demand_forecasting.git /tmp/pip-req-build-898tphd_\n",
            "  Installing build dependencies ... \u001b[?25l\u001b[?25hdone\n",
            "  Getting requirements to build wheel ... \u001b[?25l\u001b[?25hdone\n",
            "    Preparing wheel metadata ... \u001b[?25l\u001b[?25hdone\n",
            "Requirement already satisfied: pyyaml<6.0.0,>=5.3.1 in /usr/local/lib/python3.7/dist-packages (from water-demand-forecasting==0.0.1) (5.4.1)\n",
            "Requirement already satisfied: numpy<2.0.0,>=1.19.5 in /usr/local/lib/python3.7/dist-packages (from water-demand-forecasting==0.0.1) (1.19.5)\n",
            "Requirement already satisfied: sklearn<0.1,>=0.0 in /usr/local/lib/python3.7/dist-packages (from water-demand-forecasting==0.0.1) (0.0)\n",
            "Requirement already satisfied: click<8.0.0,>=7.1.2 in /usr/local/lib/python3.7/dist-packages (from water-demand-forecasting==0.0.1) (7.1.2)\n",
            "Requirement already satisfied: lint<2.0.0,>=1.2.1 in /usr/local/lib/python3.7/dist-packages (from water-demand-forecasting==0.0.1) (1.2.1)\n",
            "Requirement already satisfied: matplotlib==3.1.3 in /usr/local/lib/python3.7/dist-packages (from water-demand-forecasting==0.0.1) (3.1.3)\n",
            "Requirement already satisfied: pandas>=0.24.0 in /usr/local/lib/python3.7/dist-packages (from water-demand-forecasting==0.0.1) (1.1.5)\n",
            "Requirement already satisfied: pyparsing!=2.0.4,!=2.1.2,!=2.1.6,>=2.0.1 in /usr/local/lib/python3.7/dist-packages (from matplotlib==3.1.3->water-demand-forecasting==0.0.1) (2.4.7)\n",
            "Requirement already satisfied: cycler>=0.10 in /usr/local/lib/python3.7/dist-packages (from matplotlib==3.1.3->water-demand-forecasting==0.0.1) (0.10.0)\n",
            "Requirement already satisfied: kiwisolver>=1.0.1 in /usr/local/lib/python3.7/dist-packages (from matplotlib==3.1.3->water-demand-forecasting==0.0.1) (1.3.1)\n",
            "Requirement already satisfied: python-dateutil>=2.1 in /usr/local/lib/python3.7/dist-packages (from matplotlib==3.1.3->water-demand-forecasting==0.0.1) (2.8.1)\n",
            "Requirement already satisfied: six in /usr/local/lib/python3.7/dist-packages (from cycler>=0.10->matplotlib==3.1.3->water-demand-forecasting==0.0.1) (1.15.0)\n",
            "Requirement already satisfied: gitpython in /usr/local/lib/python3.7/dist-packages (from lint<2.0.0,>=1.2.1->water-demand-forecasting==0.0.1) (3.1.18)\n",
            "Requirement already satisfied: pylint in /usr/local/lib/python3.7/dist-packages (from lint<2.0.0,>=1.2.1->water-demand-forecasting==0.0.1) (2.9.6)\n",
            "Requirement already satisfied: pytz>=2017.2 in /usr/local/lib/python3.7/dist-packages (from pandas>=0.24.0->water-demand-forecasting==0.0.1) (2018.9)\n",
            "Requirement already satisfied: scikit-learn in /usr/local/lib/python3.7/dist-packages (from sklearn<0.1,>=0.0->water-demand-forecasting==0.0.1) (0.22.2.post1)\n",
            "Requirement already satisfied: typing-extensions>=3.7.4.0 in /usr/local/lib/python3.7/dist-packages (from gitpython->lint<2.0.0,>=1.2.1->water-demand-forecasting==0.0.1) (3.7.4.3)\n",
            "Requirement already satisfied: gitdb<5,>=4.0.1 in /usr/local/lib/python3.7/dist-packages (from gitpython->lint<2.0.0,>=1.2.1->water-demand-forecasting==0.0.1) (4.0.7)\n",
            "Requirement already satisfied: smmap<5,>=3.0.1 in /usr/local/lib/python3.7/dist-packages (from gitdb<5,>=4.0.1->gitpython->lint<2.0.0,>=1.2.1->water-demand-forecasting==0.0.1) (4.0.0)\n",
            "Requirement already satisfied: mccabe<0.7,>=0.6 in /usr/local/lib/python3.7/dist-packages (from pylint->lint<2.0.0,>=1.2.1->water-demand-forecasting==0.0.1) (0.6.1)\n",
            "Requirement already satisfied: astroid<2.7,>=2.6.5 in /usr/local/lib/python3.7/dist-packages (from pylint->lint<2.0.0,>=1.2.1->water-demand-forecasting==0.0.1) (2.6.6)\n",
            "Requirement already satisfied: isort<6,>=4.2.5 in /usr/local/lib/python3.7/dist-packages (from pylint->lint<2.0.0,>=1.2.1->water-demand-forecasting==0.0.1) (5.9.3)\n",
            "Requirement already satisfied: toml>=0.7.1 in /usr/local/lib/python3.7/dist-packages (from pylint->lint<2.0.0,>=1.2.1->water-demand-forecasting==0.0.1) (0.10.2)\n",
            "Requirement already satisfied: setuptools>=20.0 in /usr/local/lib/python3.7/dist-packages (from astroid<2.7,>=2.6.5->pylint->lint<2.0.0,>=1.2.1->water-demand-forecasting==0.0.1) (57.2.0)\n",
            "Requirement already satisfied: typed-ast<1.5,>=1.4.0 in /usr/local/lib/python3.7/dist-packages (from astroid<2.7,>=2.6.5->pylint->lint<2.0.0,>=1.2.1->water-demand-forecasting==0.0.1) (1.4.3)\n",
            "Requirement already satisfied: wrapt<1.13,>=1.11 in /usr/local/lib/python3.7/dist-packages (from astroid<2.7,>=2.6.5->pylint->lint<2.0.0,>=1.2.1->water-demand-forecasting==0.0.1) (1.12.1)\n",
            "Requirement already satisfied: lazy-object-proxy>=1.4.0 in /usr/local/lib/python3.7/dist-packages (from astroid<2.7,>=2.6.5->pylint->lint<2.0.0,>=1.2.1->water-demand-forecasting==0.0.1) (1.6.0)\n",
            "Requirement already satisfied: scipy>=0.17.0 in /usr/local/lib/python3.7/dist-packages (from scikit-learn->sklearn<0.1,>=0.0->water-demand-forecasting==0.0.1) (1.4.1)\n",
            "Requirement already satisfied: joblib>=0.11 in /usr/local/lib/python3.7/dist-packages (from scikit-learn->sklearn<0.1,>=0.0->water-demand-forecasting==0.0.1) (1.0.1)\n"
          ],
          "name": "stdout"
        }
      ]
    },
    {
      "cell_type": "code",
      "metadata": {
        "colab": {
          "base_uri": "https://localhost:8080/"
        },
        "id": "anl9-w36hmoc",
        "outputId": "dafb359a-e2f2-4dd1-81f2-c4246f542182"
      },
      "source": [
        "from google.colab import drive\n",
        "drive.mount('/content/gdrive', force_remount=True)\n",
        "\n",
        "!ls gdrive "
      ],
      "execution_count": 2,
      "outputs": [
        {
          "output_type": "stream",
          "text": [
            "Mounted at /content/gdrive\n",
            "MyDrive\n"
          ],
          "name": "stdout"
        }
      ]
    },
    {
      "cell_type": "code",
      "metadata": {
        "id": "pwsONc8ddeFE"
      },
      "source": [
        "import matplotlib.pyplot as plt\n",
        "%matplotlib inline\n",
        "from water_demand_forecasting import custom_plots\n",
        "from water_demand_forecasting.wdf_model import WDF_Model\n",
        "import tensorflow\n",
        "import time\n",
        "from tensorflow.keras.layers import Input, Dense, SimpleRNN, GRU, LSTM, Flatten, Dropout, Conv1D, Concatenate,BatchNormalization, ReLU, Add, ZeroPadding1D\n",
        "from tensorflow.keras.models import Model, Sequential\n",
        "from tensorflow.keras.optimizers import Adam\n",
        "from tensorflow.keras.callbacks import EarlyStopping, ModelCheckpoint, ReduceLROnPlateau\n",
        "from tensorflow.keras.callbacks import *\n",
        "from sklearn.preprocessing import StandardScaler, MinMaxScaler\n",
        "from sklearn.metrics import mean_absolute_error, mean_squared_error, r2_score\n",
        "import pandas as pd\n",
        "import numpy as np"
      ],
      "execution_count": 3,
      "outputs": []
    },
    {
      "cell_type": "code",
      "metadata": {
        "id": "gHajDC4Ad0My"
      },
      "source": [
        "# variables_model\n",
        "VARIABLES = [\"case_study\", \"days\"]\n",
        "T = 168"
      ],
      "execution_count": 4,
      "outputs": []
    },
    {
      "cell_type": "code",
      "metadata": {
        "id": "pfLWYM-Recf2"
      },
      "source": [
        "case_studies = dict()\n",
        "case_studies[2] = {'train':'/content/gdrive/MyDrive/DataThesis/DATI/Ferrara/Qh_CS2_14.txt',\n",
        "                   'test':'/content/gdrive/MyDrive/DataThesis/DATI/Ferrara/Qh_CS2_15.txt'}\n",
        "case_studies[3] = {'train':'/content/gdrive/MyDrive/DataThesis/DATI/Ferrara/Qh_CS3_14.txt',\n",
        "                   'test':'/content/gdrive/MyDrive/DataThesis/DATI/Ferrara/Qh_CS3_15.txt'}\n",
        "case_studies[4] = {'train':'/content/gdrive/MyDrive/DataThesis/DATI/Ferrara/Qh_CS4_14.txt',\n",
        "                   'test':'/content/gdrive/MyDrive/DataThesis/DATI/Ferrara/Qh_CS4_15.txt'}\n",
        "case_studies[5] = {'train':'/content/gdrive/MyDrive/DataThesis/DATI/Ferrara/Qh_CS5_14.txt',\n",
        "                   'test':'/content/gdrive/MyDrive/DataThesis/DATI/Ferrara/Qh_CS5_15.txt'}\n",
        "case_studies[6] = {'train':'/content/gdrive/MyDrive/DataThesis/DATI/Ferrara/Qh_CS6_14.txt',\n",
        "                   'test':'/content/gdrive/MyDrive/DataThesis/DATI/Ferrara/Qh_CS6_15.txt'}"
      ],
      "execution_count": 5,
      "outputs": []
    },
    {
      "cell_type": "code",
      "metadata": {
        "id": "MQ4BQch7deI7"
      },
      "source": [
        "for c in case_studies.keys():\n",
        "  config_temp = dict()\n",
        "  config_temp['case_study'] = dict()\n",
        "  config_temp['days'] = dict()\n",
        "  config_temp['case_study']['train'] = case_studies[c]['train']\n",
        "  config_temp['case_study']['test'] = case_studies[c]['test']\n",
        "  config_temp['days'] = {\"train\": 'gdrive/MyDrive/DataThesis/Meteo/days2014.csv',\n",
        "      \"test\": 'gdrive/MyDrive/DataThesis/Meteo/days2015.csv'}\n",
        "  Xtra, Ytra, Xval, Yval, Xtest, Ytest, scx, scy = WDF_Model.data_preprocessing(\n",
        "      VARIABLES, config_temp, lookback=T, type_scaler = \"Standard\"\n",
        "  )\n",
        "  case_studies[c]['Xtra'] = Xtra\n",
        "  case_studies[c]['Ytra'] = Ytra\n",
        "  case_studies[c]['Xval'] = Xval\n",
        "  case_studies[c]['Yval'] = Yval\n",
        "  case_studies[c]['Xtest'] = Xtest\n",
        "  case_studies[c]['Ytest'] = Ytest\n",
        "  case_studies[c]['scx'] = scx\n",
        "  case_studies[c]['scy'] = scy\n"
      ],
      "execution_count": 6,
      "outputs": []
    },
    {
      "cell_type": "code",
      "metadata": {
        "id": "p3IUjhK9iRWO"
      },
      "source": [
        "Xtra = np.concatenate([case_studies[c]['Xtra'] for c in case_studies.keys()])\n",
        "Xval = np.concatenate([case_studies[c]['Xval'] for c in case_studies.keys()])"
      ],
      "execution_count": 7,
      "outputs": []
    },
    {
      "cell_type": "code",
      "metadata": {
        "id": "Ra3mxyBMjR0l"
      },
      "source": [
        "Ytra = np.concatenate([case_studies[c]['Ytra'] for c in case_studies.keys()])\n",
        "Yval = np.concatenate([case_studies[c]['Yval'] for c in case_studies.keys()])"
      ],
      "execution_count": 8,
      "outputs": []
    },
    {
      "cell_type": "code",
      "metadata": {
        "id": "SbYehL6jjBOe"
      },
      "source": [
        "# callbacks: early stopping and Model checkpoint\n",
        "earlyStopping= EarlyStopping(monitor='val_loss', patience=10, min_delta=1e-4, mode='auto')\n",
        "mcp_save = ModelCheckpoint('model_weightsdil.hdf5', save_best_only=True, monitor='val_loss', mode='auto', save_weights_only=True)\n",
        "lr_reduced = ReduceLROnPlateau(monitor='val_loss', factor=0.5, patience=5, verbose=0, min_delta=1e-3, mode='auto')\n",
        "callbacks = [earlyStopping, mcp_save, lr_reduced]"
      ],
      "execution_count": 10,
      "outputs": []
    },
    {
      "cell_type": "code",
      "metadata": {
        "id": "YTlOglKRjjRz"
      },
      "source": [
        "dilation_rates = (2**exp for exp in range(0, 5))\n",
        "filter_size_block = 2\n",
        "filter_size_branch = 1\n",
        "number_filters = 32\n",
        "dropout_rate = 0.2\n",
        "outputs = 24\n",
        "loss = 'mae'\n",
        "metrics = 'mse'\n",
        "epochs = 500\n",
        "batch_size = 32"
      ],
      "execution_count": 11,
      "outputs": []
    },
    {
      "cell_type": "code",
      "metadata": {
        "colab": {
          "base_uri": "https://localhost:8080/"
        },
        "id": "5Re_hbUSyjg0",
        "outputId": "375a8c77-620c-42ac-8e19-fe7e4a203806"
      },
      "source": [
        "i = Input(shape=(T,len(VARIABLES)), name='Input layer')\n",
        "\n",
        "x01 = ZeroPadding1D(padding=(filter_size_block-1,0))(i)\n",
        "\n",
        "concatenated = x01\n",
        "for d in dilation_rates:\n",
        "  x1 = Conv1D(filters=number_filters, kernel_size=(filter_size_branch))(concatenated)\n",
        "\n",
        "  x2 = Conv1D(number_filters, kernel_size=(filter_size_block), padding='causal', dilation_rate=d)(concatenated)\n",
        "  x2 = BatchNormalization()(x2)\n",
        "  x2 = ReLU()(x2)\n",
        "  x2 = Dropout(rate=dropout_rate, seed=1234)(x2)\n",
        "  concatenated = Add()([x2, x1])\n",
        "   \n",
        "x = Flatten()(concatenated)\n",
        "\n",
        "x = Dense(units=outputs, activation='linear', name='Output')(x)\n",
        "\n",
        "model = Model(i, x)\n",
        "print(model.summary())\n",
        "\n",
        "# compile the model\n",
        "optimizer = Adam(learning_rate = 0.0005)\n",
        "model.compile(optimizer=optimizer, loss=loss, metrics=[metrics])"
      ],
      "execution_count": 12,
      "outputs": [
        {
          "output_type": "stream",
          "text": [
            "Model: \"model\"\n",
            "__________________________________________________________________________________________________\n",
            "Layer (type)                    Output Shape         Param #     Connected to                     \n",
            "==================================================================================================\n",
            "Input layer (InputLayer)        [(None, 168, 2)]     0                                            \n",
            "__________________________________________________________________________________________________\n",
            "zero_padding1d (ZeroPadding1D)  (None, 169, 2)       0           Input layer[0][0]                \n",
            "__________________________________________________________________________________________________\n",
            "conv1d_1 (Conv1D)               (None, 169, 32)      160         zero_padding1d[0][0]             \n",
            "__________________________________________________________________________________________________\n",
            "batch_normalization (BatchNorma (None, 169, 32)      128         conv1d_1[0][0]                   \n",
            "__________________________________________________________________________________________________\n",
            "re_lu (ReLU)                    (None, 169, 32)      0           batch_normalization[0][0]        \n",
            "__________________________________________________________________________________________________\n",
            "dropout (Dropout)               (None, 169, 32)      0           re_lu[0][0]                      \n",
            "__________________________________________________________________________________________________\n",
            "conv1d (Conv1D)                 (None, 169, 32)      96          zero_padding1d[0][0]             \n",
            "__________________________________________________________________________________________________\n",
            "add (Add)                       (None, 169, 32)      0           dropout[0][0]                    \n",
            "                                                                 conv1d[0][0]                     \n",
            "__________________________________________________________________________________________________\n",
            "conv1d_3 (Conv1D)               (None, 169, 32)      2080        add[0][0]                        \n",
            "__________________________________________________________________________________________________\n",
            "batch_normalization_1 (BatchNor (None, 169, 32)      128         conv1d_3[0][0]                   \n",
            "__________________________________________________________________________________________________\n",
            "re_lu_1 (ReLU)                  (None, 169, 32)      0           batch_normalization_1[0][0]      \n",
            "__________________________________________________________________________________________________\n",
            "dropout_1 (Dropout)             (None, 169, 32)      0           re_lu_1[0][0]                    \n",
            "__________________________________________________________________________________________________\n",
            "conv1d_2 (Conv1D)               (None, 169, 32)      1056        add[0][0]                        \n",
            "__________________________________________________________________________________________________\n",
            "add_1 (Add)                     (None, 169, 32)      0           dropout_1[0][0]                  \n",
            "                                                                 conv1d_2[0][0]                   \n",
            "__________________________________________________________________________________________________\n",
            "conv1d_5 (Conv1D)               (None, 169, 32)      2080        add_1[0][0]                      \n",
            "__________________________________________________________________________________________________\n",
            "batch_normalization_2 (BatchNor (None, 169, 32)      128         conv1d_5[0][0]                   \n",
            "__________________________________________________________________________________________________\n",
            "re_lu_2 (ReLU)                  (None, 169, 32)      0           batch_normalization_2[0][0]      \n",
            "__________________________________________________________________________________________________\n",
            "dropout_2 (Dropout)             (None, 169, 32)      0           re_lu_2[0][0]                    \n",
            "__________________________________________________________________________________________________\n",
            "conv1d_4 (Conv1D)               (None, 169, 32)      1056        add_1[0][0]                      \n",
            "__________________________________________________________________________________________________\n",
            "add_2 (Add)                     (None, 169, 32)      0           dropout_2[0][0]                  \n",
            "                                                                 conv1d_4[0][0]                   \n",
            "__________________________________________________________________________________________________\n",
            "conv1d_7 (Conv1D)               (None, 169, 32)      2080        add_2[0][0]                      \n",
            "__________________________________________________________________________________________________\n",
            "batch_normalization_3 (BatchNor (None, 169, 32)      128         conv1d_7[0][0]                   \n",
            "__________________________________________________________________________________________________\n",
            "re_lu_3 (ReLU)                  (None, 169, 32)      0           batch_normalization_3[0][0]      \n",
            "__________________________________________________________________________________________________\n",
            "dropout_3 (Dropout)             (None, 169, 32)      0           re_lu_3[0][0]                    \n",
            "__________________________________________________________________________________________________\n",
            "conv1d_6 (Conv1D)               (None, 169, 32)      1056        add_2[0][0]                      \n",
            "__________________________________________________________________________________________________\n",
            "add_3 (Add)                     (None, 169, 32)      0           dropout_3[0][0]                  \n",
            "                                                                 conv1d_6[0][0]                   \n",
            "__________________________________________________________________________________________________\n",
            "conv1d_9 (Conv1D)               (None, 169, 32)      2080        add_3[0][0]                      \n",
            "__________________________________________________________________________________________________\n",
            "batch_normalization_4 (BatchNor (None, 169, 32)      128         conv1d_9[0][0]                   \n",
            "__________________________________________________________________________________________________\n",
            "re_lu_4 (ReLU)                  (None, 169, 32)      0           batch_normalization_4[0][0]      \n",
            "__________________________________________________________________________________________________\n",
            "dropout_4 (Dropout)             (None, 169, 32)      0           re_lu_4[0][0]                    \n",
            "__________________________________________________________________________________________________\n",
            "conv1d_8 (Conv1D)               (None, 169, 32)      1056        add_3[0][0]                      \n",
            "__________________________________________________________________________________________________\n",
            "add_4 (Add)                     (None, 169, 32)      0           dropout_4[0][0]                  \n",
            "                                                                 conv1d_8[0][0]                   \n",
            "__________________________________________________________________________________________________\n",
            "flatten (Flatten)               (None, 5408)         0           add_4[0][0]                      \n",
            "__________________________________________________________________________________________________\n",
            "Output (Dense)                  (None, 24)           129816      flatten[0][0]                    \n",
            "==================================================================================================\n",
            "Total params: 143,256\n",
            "Trainable params: 142,936\n",
            "Non-trainable params: 320\n",
            "__________________________________________________________________________________________________\n",
            "None\n"
          ],
          "name": "stdout"
        }
      ]
    },
    {
      "cell_type": "code",
      "metadata": {
        "colab": {
          "base_uri": "https://localhost:8080/"
        },
        "id": "Nk6qkKGpynNJ",
        "outputId": "949634ab-7280-4d63-9e14-7a22d231c0bf"
      },
      "source": [
        "start = time.time()\n",
        "r = model.fit(Xtra, Ytra, verbose = 1, validation_data=(Xval, Yval), epochs=epochs, callbacks=callbacks, batch_size=batch_size)\n",
        "end = time.time()\n",
        "print('Total training time: ', end-start)"
      ],
      "execution_count": 13,
      "outputs": [
        {
          "output_type": "stream",
          "text": [
            "Epoch 1/500\n",
            "1005/1005 [==============================] - 45s 11ms/step - loss: 0.4383 - mse: 0.4408 - val_loss: 0.1514 - val_mse: 0.0428\n",
            "Epoch 2/500\n",
            "1005/1005 [==============================] - 11s 11ms/step - loss: 0.1693 - mse: 0.0522 - val_loss: 0.1371 - val_mse: 0.0375\n",
            "Epoch 3/500\n",
            "1005/1005 [==============================] - 10s 10ms/step - loss: 0.1434 - mse: 0.0400 - val_loss: 0.1298 - val_mse: 0.0334\n",
            "Epoch 4/500\n",
            "1005/1005 [==============================] - 10s 10ms/step - loss: 0.1339 - mse: 0.0361 - val_loss: 0.1204 - val_mse: 0.0312\n",
            "Epoch 5/500\n",
            "1005/1005 [==============================] - 10s 10ms/step - loss: 0.1290 - mse: 0.0343 - val_loss: 0.1225 - val_mse: 0.0312\n",
            "Epoch 6/500\n",
            "1005/1005 [==============================] - 10s 10ms/step - loss: 0.1257 - mse: 0.0331 - val_loss: 0.1176 - val_mse: 0.0297\n",
            "Epoch 7/500\n",
            "1005/1005 [==============================] - 10s 10ms/step - loss: 0.1227 - mse: 0.0319 - val_loss: 0.1171 - val_mse: 0.0300\n",
            "Epoch 8/500\n",
            "1005/1005 [==============================] - 11s 11ms/step - loss: 0.1206 - mse: 0.0311 - val_loss: 0.1150 - val_mse: 0.0284\n",
            "Epoch 9/500\n",
            "1005/1005 [==============================] - 10s 10ms/step - loss: 0.1188 - mse: 0.0305 - val_loss: 0.1218 - val_mse: 0.0308\n",
            "Epoch 10/500\n",
            "1005/1005 [==============================] - 10s 10ms/step - loss: 0.1172 - mse: 0.0298 - val_loss: 0.1120 - val_mse: 0.0275\n",
            "Epoch 11/500\n",
            "1005/1005 [==============================] - 11s 11ms/step - loss: 0.1162 - mse: 0.0294 - val_loss: 0.1116 - val_mse: 0.0273\n",
            "Epoch 12/500\n",
            "1005/1005 [==============================] - 10s 10ms/step - loss: 0.1145 - mse: 0.0288 - val_loss: 0.1128 - val_mse: 0.0277\n",
            "Epoch 13/500\n",
            "1005/1005 [==============================] - 10s 10ms/step - loss: 0.1138 - mse: 0.0286 - val_loss: 0.1130 - val_mse: 0.0277\n",
            "Epoch 14/500\n",
            "1005/1005 [==============================] - 10s 10ms/step - loss: 0.1131 - mse: 0.0282 - val_loss: 0.1127 - val_mse: 0.0271\n",
            "Epoch 15/500\n",
            "1005/1005 [==============================] - 10s 10ms/step - loss: 0.1121 - mse: 0.0279 - val_loss: 0.1121 - val_mse: 0.0270\n",
            "Epoch 16/500\n",
            "1005/1005 [==============================] - 10s 10ms/step - loss: 0.1079 - mse: 0.0266 - val_loss: 0.1054 - val_mse: 0.0254\n",
            "Epoch 17/500\n",
            "1005/1005 [==============================] - 11s 11ms/step - loss: 0.1072 - mse: 0.0264 - val_loss: 0.1046 - val_mse: 0.0250\n",
            "Epoch 18/500\n",
            "1005/1005 [==============================] - 11s 11ms/step - loss: 0.1067 - mse: 0.0262 - val_loss: 0.1050 - val_mse: 0.0251\n",
            "Epoch 19/500\n",
            "1005/1005 [==============================] - 10s 10ms/step - loss: 0.1063 - mse: 0.0260 - val_loss: 0.1051 - val_mse: 0.0252\n",
            "Epoch 20/500\n",
            "1005/1005 [==============================] - 10s 10ms/step - loss: 0.1060 - mse: 0.0259 - val_loss: 0.1043 - val_mse: 0.0249\n",
            "Epoch 21/500\n",
            "1005/1005 [==============================] - 10s 10ms/step - loss: 0.1058 - mse: 0.0258 - val_loss: 0.1043 - val_mse: 0.0245\n",
            "Epoch 22/500\n",
            "1005/1005 [==============================] - 10s 10ms/step - loss: 0.1054 - mse: 0.0257 - val_loss: 0.1035 - val_mse: 0.0244\n",
            "Epoch 23/500\n",
            "1005/1005 [==============================] - 10s 10ms/step - loss: 0.1052 - mse: 0.0255 - val_loss: 0.1035 - val_mse: 0.0245\n",
            "Epoch 24/500\n",
            "1005/1005 [==============================] - 11s 11ms/step - loss: 0.1049 - mse: 0.0254 - val_loss: 0.1031 - val_mse: 0.0244\n",
            "Epoch 25/500\n",
            "1005/1005 [==============================] - 10s 10ms/step - loss: 0.1045 - mse: 0.0253 - val_loss: 0.1036 - val_mse: 0.0243\n",
            "Epoch 26/500\n",
            "1005/1005 [==============================] - 10s 10ms/step - loss: 0.1042 - mse: 0.0252 - val_loss: 0.1026 - val_mse: 0.0242\n",
            "Epoch 27/500\n",
            "1005/1005 [==============================] - 10s 10ms/step - loss: 0.1041 - mse: 0.0251 - val_loss: 0.1032 - val_mse: 0.0245\n",
            "Epoch 28/500\n",
            "1005/1005 [==============================] - 10s 10ms/step - loss: 0.1038 - mse: 0.0250 - val_loss: 0.1024 - val_mse: 0.0240\n",
            "Epoch 29/500\n",
            "1005/1005 [==============================] - 10s 10ms/step - loss: 0.1036 - mse: 0.0249 - val_loss: 0.1030 - val_mse: 0.0241\n",
            "Epoch 30/500\n",
            "1005/1005 [==============================] - 11s 11ms/step - loss: 0.1015 - mse: 0.0243 - val_loss: 0.1006 - val_mse: 0.0235\n",
            "Epoch 31/500\n",
            "1005/1005 [==============================] - 11s 11ms/step - loss: 0.1012 - mse: 0.0242 - val_loss: 0.0999 - val_mse: 0.0233\n",
            "Epoch 32/500\n",
            "1005/1005 [==============================] - 10s 10ms/step - loss: 0.1010 - mse: 0.0241 - val_loss: 0.0999 - val_mse: 0.0232\n",
            "Epoch 33/500\n",
            "1005/1005 [==============================] - 10s 10ms/step - loss: 0.1009 - mse: 0.0240 - val_loss: 0.0998 - val_mse: 0.0233\n",
            "Epoch 34/500\n",
            "1005/1005 [==============================] - 10s 10ms/step - loss: 0.1007 - mse: 0.0240 - val_loss: 0.0993 - val_mse: 0.0231\n",
            "Epoch 35/500\n",
            "1005/1005 [==============================] - 10s 10ms/step - loss: 0.1004 - mse: 0.0239 - val_loss: 0.1001 - val_mse: 0.0233\n",
            "Epoch 36/500\n",
            "1005/1005 [==============================] - 11s 11ms/step - loss: 0.1005 - mse: 0.0239 - val_loss: 0.0998 - val_mse: 0.0232\n",
            "Epoch 37/500\n",
            "1005/1005 [==============================] - 11s 10ms/step - loss: 0.1001 - mse: 0.0238 - val_loss: 0.0994 - val_mse: 0.0231\n",
            "Epoch 38/500\n",
            "1005/1005 [==============================] - 10s 10ms/step - loss: 0.1001 - mse: 0.0237 - val_loss: 0.0995 - val_mse: 0.0230\n",
            "Epoch 39/500\n",
            "1005/1005 [==============================] - 10s 10ms/step - loss: 0.1002 - mse: 0.0238 - val_loss: 0.1001 - val_mse: 0.0231\n",
            "Epoch 40/500\n",
            "1005/1005 [==============================] - 10s 10ms/step - loss: 0.0989 - mse: 0.0234 - val_loss: 0.0981 - val_mse: 0.0227\n",
            "Epoch 41/500\n",
            "1005/1005 [==============================] - 10s 10ms/step - loss: 0.0988 - mse: 0.0234 - val_loss: 0.0980 - val_mse: 0.0227\n",
            "Epoch 42/500\n",
            "1005/1005 [==============================] - 10s 10ms/step - loss: 0.0986 - mse: 0.0233 - val_loss: 0.0986 - val_mse: 0.0227\n",
            "Epoch 43/500\n",
            "1005/1005 [==============================] - 11s 11ms/step - loss: 0.0985 - mse: 0.0233 - val_loss: 0.0987 - val_mse: 0.0228\n",
            "Epoch 44/500\n",
            "1005/1005 [==============================] - 11s 11ms/step - loss: 0.0984 - mse: 0.0232 - val_loss: 0.0984 - val_mse: 0.0227\n",
            "Epoch 45/500\n",
            "1005/1005 [==============================] - 10s 10ms/step - loss: 0.0985 - mse: 0.0232 - val_loss: 0.0979 - val_mse: 0.0226\n",
            "Epoch 46/500\n",
            "1005/1005 [==============================] - 11s 11ms/step - loss: 0.0978 - mse: 0.0230 - val_loss: 0.0975 - val_mse: 0.0225\n",
            "Epoch 47/500\n",
            "1005/1005 [==============================] - 11s 11ms/step - loss: 0.0977 - mse: 0.0230 - val_loss: 0.0975 - val_mse: 0.0225\n",
            "Epoch 48/500\n",
            "1005/1005 [==============================] - 11s 11ms/step - loss: 0.0976 - mse: 0.0230 - val_loss: 0.0974 - val_mse: 0.0224\n",
            "Epoch 49/500\n",
            "1005/1005 [==============================] - 10s 10ms/step - loss: 0.0976 - mse: 0.0230 - val_loss: 0.0974 - val_mse: 0.0225\n",
            "Epoch 50/500\n",
            "1005/1005 [==============================] - 10s 10ms/step - loss: 0.0975 - mse: 0.0229 - val_loss: 0.0973 - val_mse: 0.0224\n",
            "Epoch 51/500\n",
            "1005/1005 [==============================] - 10s 10ms/step - loss: 0.0972 - mse: 0.0229 - val_loss: 0.0972 - val_mse: 0.0224\n",
            "Epoch 52/500\n",
            "1005/1005 [==============================] - 10s 10ms/step - loss: 0.0972 - mse: 0.0229 - val_loss: 0.0972 - val_mse: 0.0224\n",
            "Epoch 53/500\n",
            "1005/1005 [==============================] - 10s 10ms/step - loss: 0.0971 - mse: 0.0228 - val_loss: 0.0971 - val_mse: 0.0224\n",
            "Epoch 54/500\n",
            "1005/1005 [==============================] - 10s 10ms/step - loss: 0.0972 - mse: 0.0228 - val_loss: 0.0971 - val_mse: 0.0224\n",
            "Epoch 55/500\n",
            "1005/1005 [==============================] - 10s 10ms/step - loss: 0.0972 - mse: 0.0229 - val_loss: 0.0971 - val_mse: 0.0223\n",
            "Epoch 56/500\n",
            "1005/1005 [==============================] - 10s 10ms/step - loss: 0.0971 - mse: 0.0228 - val_loss: 0.0971 - val_mse: 0.0223\n",
            "Epoch 57/500\n",
            "1005/1005 [==============================] - 10s 10ms/step - loss: 0.0971 - mse: 0.0228 - val_loss: 0.0972 - val_mse: 0.0223\n",
            "Epoch 58/500\n",
            "1005/1005 [==============================] - 10s 10ms/step - loss: 0.0971 - mse: 0.0228 - val_loss: 0.0970 - val_mse: 0.0223\n",
            "Epoch 59/500\n",
            "1005/1005 [==============================] - 11s 11ms/step - loss: 0.0971 - mse: 0.0228 - val_loss: 0.0970 - val_mse: 0.0223\n",
            "Epoch 60/500\n",
            "1005/1005 [==============================] - 11s 11ms/step - loss: 0.0970 - mse: 0.0228 - val_loss: 0.0970 - val_mse: 0.0223\n",
            "Epoch 61/500\n",
            "1005/1005 [==============================] - 10s 10ms/step - loss: 0.0969 - mse: 0.0227 - val_loss: 0.0969 - val_mse: 0.0223\n",
            "Epoch 62/500\n",
            "1005/1005 [==============================] - 10s 10ms/step - loss: 0.0969 - mse: 0.0227 - val_loss: 0.0969 - val_mse: 0.0223\n",
            "Epoch 63/500\n",
            "1005/1005 [==============================] - 10s 10ms/step - loss: 0.0968 - mse: 0.0227 - val_loss: 0.0970 - val_mse: 0.0223\n",
            "Epoch 64/500\n",
            "1005/1005 [==============================] - 10s 10ms/step - loss: 0.0968 - mse: 0.0227 - val_loss: 0.0969 - val_mse: 0.0223\n",
            "Epoch 65/500\n",
            "1005/1005 [==============================] - 11s 11ms/step - loss: 0.0966 - mse: 0.0227 - val_loss: 0.0969 - val_mse: 0.0223\n",
            "Epoch 66/500\n",
            "1005/1005 [==============================] - 11s 11ms/step - loss: 0.0968 - mse: 0.0227 - val_loss: 0.0969 - val_mse: 0.0223\n",
            "Epoch 67/500\n",
            "1005/1005 [==============================] - 10s 10ms/step - loss: 0.0967 - mse: 0.0227 - val_loss: 0.0969 - val_mse: 0.0223\n",
            "Epoch 68/500\n",
            "1005/1005 [==============================] - 10s 10ms/step - loss: 0.0967 - mse: 0.0227 - val_loss: 0.0968 - val_mse: 0.0223\n",
            "Epoch 69/500\n",
            "1005/1005 [==============================] - 10s 10ms/step - loss: 0.0968 - mse: 0.0227 - val_loss: 0.0968 - val_mse: 0.0223\n",
            "Epoch 70/500\n",
            "1005/1005 [==============================] - 10s 10ms/step - loss: 0.0967 - mse: 0.0227 - val_loss: 0.0968 - val_mse: 0.0222\n",
            "Epoch 71/500\n",
            "1005/1005 [==============================] - 11s 11ms/step - loss: 0.0967 - mse: 0.0227 - val_loss: 0.0968 - val_mse: 0.0222\n",
            "Epoch 72/500\n",
            "1005/1005 [==============================] - 11s 11ms/step - loss: 0.0966 - mse: 0.0227 - val_loss: 0.0968 - val_mse: 0.0223\n",
            "Epoch 73/500\n",
            "1005/1005 [==============================] - 11s 11ms/step - loss: 0.0967 - mse: 0.0227 - val_loss: 0.0968 - val_mse: 0.0222\n",
            "Epoch 74/500\n",
            "1005/1005 [==============================] - 10s 10ms/step - loss: 0.0967 - mse: 0.0227 - val_loss: 0.0968 - val_mse: 0.0223\n",
            "Epoch 75/500\n",
            "1005/1005 [==============================] - 11s 11ms/step - loss: 0.0967 - mse: 0.0227 - val_loss: 0.0968 - val_mse: 0.0223\n",
            "Epoch 76/500\n",
            "1005/1005 [==============================] - 11s 11ms/step - loss: 0.0967 - mse: 0.0227 - val_loss: 0.0968 - val_mse: 0.0223\n",
            "Epoch 77/500\n",
            "1005/1005 [==============================] - 10s 10ms/step - loss: 0.0966 - mse: 0.0227 - val_loss: 0.0968 - val_mse: 0.0222\n",
            "Epoch 78/500\n",
            "1005/1005 [==============================] - 10s 10ms/step - loss: 0.0966 - mse: 0.0226 - val_loss: 0.0968 - val_mse: 0.0222\n",
            "Epoch 79/500\n",
            "1005/1005 [==============================] - 10s 10ms/step - loss: 0.0966 - mse: 0.0227 - val_loss: 0.0968 - val_mse: 0.0223\n",
            "Epoch 80/500\n",
            "1005/1005 [==============================] - 10s 10ms/step - loss: 0.0966 - mse: 0.0227 - val_loss: 0.0968 - val_mse: 0.0223\n",
            "Epoch 81/500\n",
            "1005/1005 [==============================] - 11s 11ms/step - loss: 0.0967 - mse: 0.0227 - val_loss: 0.0968 - val_mse: 0.0222\n",
            "Total training time:  870.3103966712952\n"
          ],
          "name": "stdout"
        }
      ]
    },
    {
      "cell_type": "code",
      "metadata": {
        "id": "AuVzZXpnlZuA",
        "colab": {
          "base_uri": "https://localhost:8080/",
          "height": 374
        },
        "outputId": "dc6e7379-6037-47e1-b2d8-4b8042678ce3"
      },
      "source": [
        "custom_plots.loss_plot(r, 'GlobalModel', color = 'r')"
      ],
      "execution_count": 14,
      "outputs": [
        {
          "output_type": "display_data",
          "data": {
            "image/png": "[encoded data removed]",
            "text/plain": [
              "<Figure size 1296x432 with 2 Axes>"
            ]
          },
          "metadata": {
            "tags": [],
            "needs_background": "light"
          }
        }
      ]
    },
    {
      "cell_type": "code",
      "metadata": {
        "id": "ipQAs7CploGQ"
      },
      "source": [
        "model.load_weights('model_weightsdil.hdf5')"
      ],
      "execution_count": 15,
      "outputs": []
    },
    {
      "cell_type": "code",
      "metadata": {
        "id": "2LcawFsC1dph"
      },
      "source": [
        "def print_metrics(y,ypred,dataset, scy):\n",
        "  y = scy.inverse_transform(y)\n",
        "  ypred = scy.inverse_transform(ypred)\n",
        "  print(f'{dataset}\\t\\tRMSE:{mean_squared_error(y,ypred)**0.5:.3f}\\tMAE:{mean_absolute_error(y,ypred):.3f}\\tR2:{r2_score(y,ypred):.3f}')"
      ],
      "execution_count": 16,
      "outputs": []
    },
    {
      "cell_type": "code",
      "metadata": {
        "id": "crMCi8WR1zJm",
        "colab": {
          "base_uri": "https://localhost:8080/"
        },
        "outputId": "57de76b0-6a35-4e05-f58c-ece4e7365a43"
      },
      "source": [
        "for c in case_studies.keys():\n",
        "  print(f'Test for CS{c}')\n",
        "  print_metrics(case_studies[c]['Ytest'].reshape(-1,1),model.predict(case_studies[c]['Xtest']).reshape(-1,1),'Test',case_studies[c]['scy'])"
      ],
      "execution_count": 17,
      "outputs": [
        {
          "output_type": "stream",
          "text": [
            "Test for CS2\n",
            "Test\t\tRMSE:41.082\tMAE:29.490\tR2:0.954\n",
            "Test for CS3\n",
            "Test\t\tRMSE:4.615\tMAE:3.151\tR2:0.969\n",
            "Test for CS4\n",
            "Test\t\tRMSE:1.229\tMAE:0.794\tR2:0.979\n",
            "Test for CS5\n",
            "Test\t\tRMSE:2.504\tMAE:1.627\tR2:0.951\n",
            "Test for CS6\n",
            "Test\t\tRMSE:6.404\tMAE:4.293\tR2:0.980\n"
          ],
          "name": "stdout"
        }
      ]
    },
    {
      "cell_type": "code",
      "metadata": {
        "colab": {
          "base_uri": "https://localhost:8080/"
        },
        "id": "FswVwpZP9J8l",
        "outputId": "6ea94501-00d5-42d0-b777-65ceca9caaea"
      },
      "source": [
        "for c in case_studies.keys():\n",
        "  for y in [1,2]:\n",
        "    mode = 'val' if y == 1 else 'test'\n",
        "    Y_hat = model.predict(case_studies[c][f'X{mode}'])\n",
        "    Y_test = case_studies[c]['scy'].inverse_transform(case_studies[c][f'Y{mode}'])\n",
        "    Yhat = case_studies[c]['scy'].inverse_transform(Y_hat)\n",
        "    dat1y2 = pd.DataFrame(Y_test)\n",
        "    dat2y2 = pd.DataFrame(Yhat)\n",
        "    e = 100*np.sum(np.abs((dat1y2 - dat2y2)/np.mean(dat1y2, axis = 0)), axis = 0)/len(dat1y2)\n",
        "    print(f'MAE CS{c} Year {y} = {e.mean()}')\n",
        "  print('-'*10)"
      ],
      "execution_count": 18,
      "outputs": [
        {
          "output_type": "stream",
          "text": [
            "MAE CS2 Year 1 = 2.1898838570199994\n",
            "MAE CS2 Year 2 = 3.0492126490379428\n",
            "----------\n",
            "MAE CS3 Year 1 = 2.8028393034865453\n",
            "MAE CS3 Year 2 = 3.2840456840994374\n",
            "----------\n",
            "MAE CS4 Year 1 = 2.989449327124058\n",
            "MAE CS4 Year 2 = 3.215735261684264\n",
            "----------\n",
            "MAE CS5 Year 1 = 2.5612284820465874\n",
            "MAE CS5 Year 2 = 2.866633070899496\n",
            "----------\n",
            "MAE CS6 Year 1 = 2.161666396989536\n",
            "MAE CS6 Year 2 = 2.419545151353662\n",
            "----------\n"
          ],
          "name": "stdout"
        }
      ]
    },
    {
      "cell_type": "code",
      "metadata": {
        "id": "aN56-NM3PyHi"
      },
      "source": [
        ""
      ],
      "execution_count": null,
      "outputs": []
    }
  ]
}