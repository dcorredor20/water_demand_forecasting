{
 "cells": [
  {
   "cell_type": "code",
   "execution_count": 1,
   "id": "b006822c",
   "metadata": {},
   "outputs": [],
   "source": [
    "import yaml\n",
    "from water_demand_forecasting import data_preprocessing"
   ]
  },
  {
   "cell_type": "code",
   "execution_count": 2,
   "id": "70ac6129",
   "metadata": {},
   "outputs": [],
   "source": [
    "# variables_model\n",
    "VARIABLES = [\"case_study\", \"days\"]\n",
    "CONFIG_FILE = r\"C:\\Users\\dcorr\\source\\repos\\water_demand_forecasting\\water_demand_forecasting\\local_config.yml\"\n",
    "T = 168"
   ]
  },
  {
   "cell_type": "code",
   "execution_count": 3,
   "id": "d59dd62d",
   "metadata": {},
   "outputs": [],
   "source": [
    "# Load config file with the paths\n",
    "with open(CONFIG_FILE, \"r\") as in_file:\n",
    "    config = yaml.safe_load(in_file)"
   ]
  },
  {
   "cell_type": "code",
   "execution_count": 4,
   "id": "52b3ca5f",
   "metadata": {},
   "outputs": [],
   "source": [
    "Xtra, Ytra, Xval, Yval, Xtest, Ytest = data_preprocessing.data_preprocessing(\n",
    "    VARIABLES, config, lookback=T\n",
    ")"
   ]
  },
  {
   "cell_type": "code",
   "execution_count": 5,
   "id": "ef73c843",
   "metadata": {},
   "outputs": [
    {
     "name": "stdout",
     "output_type": "stream",
     "text": [
      "(6426, 168, 2)\n",
      "(6426, 24, 1)\n",
      "(2142, 168, 2)\n",
      "(2142, 24, 1)\n",
      "(8568, 168, 2)\n",
      "(8568, 24, 1)\n"
     ]
    }
   ],
   "source": [
    "print(Xtra.shape)\n",
    "print(Ytra.shape)\n",
    "print(Xval.shape)\n",
    "print(Yval.shape)\n",
    "print(Xtest.shape)\n",
    "print(Ytest.shape)"
   ]
  }
 ],
 "metadata": {
  "kernelspec": {
   "display_name": "water_Demand_forecasting",
   "language": "python",
   "name": "water_demand_forecasting"
  },
  "language_info": {
   "codemirror_mode": {
    "name": "ipython",
    "version": 3
   },
   "file_extension": ".py",
   "mimetype": "text/x-python",
   "name": "python",
   "nbconvert_exporter": "python",
   "pygments_lexer": "ipython3",
   "version": "3.7.7"
  }
 },
 "nbformat": 4,
 "nbformat_minor": 5
}
