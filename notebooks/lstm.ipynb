{
  "nbformat": 4,
  "nbformat_minor": 5,
  "metadata": {
    "kernelspec": {
      "display_name": "water_Demand_forecasting",
      "language": "python",
      "name": "water_demand_forecasting"
    },
    "language_info": {
      "codemirror_mode": {
        "name": "ipython",
        "version": 3
      },
      "file_extension": ".py",
      "mimetype": "text/x-python",
      "name": "python",
      "nbconvert_exporter": "python",
      "pygments_lexer": "ipython3",
      "version": "3.7.7"
    },
    "colab": {
      "name": "lstm.ipynb",
      "provenance": [],
      "collapsed_sections": [],
      "include_colab_link": true
    },
    "accelerator": "GPU"
  },
  "cells": [
    {
      "cell_type": "markdown",
      "metadata": {
        "id": "view-in-github",
        "colab_type": "text"
      },
      "source": [
        "<a href=\"https://colab.research.google.com/github/dcorredor20/water_demand_forecasting/blob/main/lstm.ipynb\" target=\"_parent\"><img src=\"https://colab.research.google.com/assets/colab-badge.svg\" alt=\"Open In Colab\"/></a>"
      ]
    },
    {
      "cell_type": "code",
      "metadata": {
        "colab": {
          "base_uri": "https://localhost:8080/"
        },
        "id": "NzRRARMg-YAm",
        "outputId": "61e24b9f-8e0a-46d2-a03d-edf55c3ed540"
      },
      "source": [
        "!pip install git+https://github.com/dcorredor20/water_demand_forecasting.git"
      ],
      "id": "NzRRARMg-YAm",
      "execution_count": 1,
      "outputs": [
        {
          "output_type": "stream",
          "text": [
            "Collecting git+https://github.com/dcorredor20/water_demand_forecasting.git\n",
            "  Cloning https://github.com/dcorredor20/water_demand_forecasting.git to /tmp/pip-req-build-nm243ghl\n",
            "  Running command git clone -q https://github.com/dcorredor20/water_demand_forecasting.git /tmp/pip-req-build-nm243ghl\n",
            "  Installing build dependencies ... \u001b[?25l\u001b[?25hdone\n",
            "  Getting requirements to build wheel ... \u001b[?25l\u001b[?25hdone\n",
            "    Preparing wheel metadata ... \u001b[?25l\u001b[?25hdone\n",
            "Requirement already satisfied: matplotlib==3.1.3 in /usr/local/lib/python3.7/dist-packages (from water-demand-forecasting==0.0.1) (3.1.3)\n",
            "Requirement already satisfied: lint<2.0.0,>=1.2.1 in /usr/local/lib/python3.7/dist-packages (from water-demand-forecasting==0.0.1) (1.2.1)\n",
            "Requirement already satisfied: numpy<2.0.0,>=1.19.5 in /usr/local/lib/python3.7/dist-packages (from water-demand-forecasting==0.0.1) (1.19.5)\n",
            "Requirement already satisfied: sklearn<0.1,>=0.0 in /usr/local/lib/python3.7/dist-packages (from water-demand-forecasting==0.0.1) (0.0)\n",
            "Requirement already satisfied: click<8.0.0,>=7.1.2 in /usr/local/lib/python3.7/dist-packages (from water-demand-forecasting==0.0.1) (7.1.2)\n",
            "Requirement already satisfied: pyyaml<6.0.0,>=5.3.1 in /usr/local/lib/python3.7/dist-packages (from water-demand-forecasting==0.0.1) (5.4.1)\n",
            "Requirement already satisfied: pandas>=0.24.0 in /usr/local/lib/python3.7/dist-packages (from water-demand-forecasting==0.0.1) (1.1.5)\n",
            "Requirement already satisfied: kiwisolver>=1.0.1 in /usr/local/lib/python3.7/dist-packages (from matplotlib==3.1.3->water-demand-forecasting==0.0.1) (1.3.1)\n",
            "Requirement already satisfied: cycler>=0.10 in /usr/local/lib/python3.7/dist-packages (from matplotlib==3.1.3->water-demand-forecasting==0.0.1) (0.10.0)\n",
            "Requirement already satisfied: python-dateutil>=2.1 in /usr/local/lib/python3.7/dist-packages (from matplotlib==3.1.3->water-demand-forecasting==0.0.1) (2.8.1)\n",
            "Requirement already satisfied: pyparsing!=2.0.4,!=2.1.2,!=2.1.6,>=2.0.1 in /usr/local/lib/python3.7/dist-packages (from matplotlib==3.1.3->water-demand-forecasting==0.0.1) (2.4.7)\n",
            "Requirement already satisfied: six in /usr/local/lib/python3.7/dist-packages (from cycler>=0.10->matplotlib==3.1.3->water-demand-forecasting==0.0.1) (1.15.0)\n",
            "Requirement already satisfied: pylint in /usr/local/lib/python3.7/dist-packages (from lint<2.0.0,>=1.2.1->water-demand-forecasting==0.0.1) (2.9.6)\n",
            "Requirement already satisfied: gitpython in /usr/local/lib/python3.7/dist-packages (from lint<2.0.0,>=1.2.1->water-demand-forecasting==0.0.1) (3.1.18)\n",
            "Requirement already satisfied: pytz>=2017.2 in /usr/local/lib/python3.7/dist-packages (from pandas>=0.24.0->water-demand-forecasting==0.0.1) (2018.9)\n",
            "Requirement already satisfied: scikit-learn in /usr/local/lib/python3.7/dist-packages (from sklearn<0.1,>=0.0->water-demand-forecasting==0.0.1) (0.22.2.post1)\n",
            "Requirement already satisfied: gitdb<5,>=4.0.1 in /usr/local/lib/python3.7/dist-packages (from gitpython->lint<2.0.0,>=1.2.1->water-demand-forecasting==0.0.1) (4.0.7)\n",
            "Requirement already satisfied: typing-extensions>=3.7.4.0 in /usr/local/lib/python3.7/dist-packages (from gitpython->lint<2.0.0,>=1.2.1->water-demand-forecasting==0.0.1) (3.7.4.3)\n",
            "Requirement already satisfied: smmap<5,>=3.0.1 in /usr/local/lib/python3.7/dist-packages (from gitdb<5,>=4.0.1->gitpython->lint<2.0.0,>=1.2.1->water-demand-forecasting==0.0.1) (4.0.0)\n",
            "Requirement already satisfied: isort<6,>=4.2.5 in /usr/local/lib/python3.7/dist-packages (from pylint->lint<2.0.0,>=1.2.1->water-demand-forecasting==0.0.1) (5.9.3)\n",
            "Requirement already satisfied: mccabe<0.7,>=0.6 in /usr/local/lib/python3.7/dist-packages (from pylint->lint<2.0.0,>=1.2.1->water-demand-forecasting==0.0.1) (0.6.1)\n",
            "Requirement already satisfied: astroid<2.7,>=2.6.5 in /usr/local/lib/python3.7/dist-packages (from pylint->lint<2.0.0,>=1.2.1->water-demand-forecasting==0.0.1) (2.6.6)\n",
            "Requirement already satisfied: toml>=0.7.1 in /usr/local/lib/python3.7/dist-packages (from pylint->lint<2.0.0,>=1.2.1->water-demand-forecasting==0.0.1) (0.10.2)\n",
            "Requirement already satisfied: setuptools>=20.0 in /usr/local/lib/python3.7/dist-packages (from astroid<2.7,>=2.6.5->pylint->lint<2.0.0,>=1.2.1->water-demand-forecasting==0.0.1) (57.2.0)\n",
            "Requirement already satisfied: typed-ast<1.5,>=1.4.0 in /usr/local/lib/python3.7/dist-packages (from astroid<2.7,>=2.6.5->pylint->lint<2.0.0,>=1.2.1->water-demand-forecasting==0.0.1) (1.4.3)\n",
            "Requirement already satisfied: lazy-object-proxy>=1.4.0 in /usr/local/lib/python3.7/dist-packages (from astroid<2.7,>=2.6.5->pylint->lint<2.0.0,>=1.2.1->water-demand-forecasting==0.0.1) (1.6.0)\n",
            "Requirement already satisfied: wrapt<1.13,>=1.11 in /usr/local/lib/python3.7/dist-packages (from astroid<2.7,>=2.6.5->pylint->lint<2.0.0,>=1.2.1->water-demand-forecasting==0.0.1) (1.12.1)\n",
            "Requirement already satisfied: joblib>=0.11 in /usr/local/lib/python3.7/dist-packages (from scikit-learn->sklearn<0.1,>=0.0->water-demand-forecasting==0.0.1) (1.0.1)\n",
            "Requirement already satisfied: scipy>=0.17.0 in /usr/local/lib/python3.7/dist-packages (from scikit-learn->sklearn<0.1,>=0.0->water-demand-forecasting==0.0.1) (1.4.1)\n"
          ],
          "name": "stdout"
        }
      ]
    },
    {
      "cell_type": "code",
      "metadata": {
        "colab": {
          "base_uri": "https://localhost:8080/"
        },
        "id": "0Isd7gXC_bVO",
        "outputId": "217c74e5-2d42-42b0-ba76-2fedfc14aa57"
      },
      "source": [
        "from google.colab import drive\n",
        "drive.mount('/content/gdrive', force_remount=True)\n",
        "\n",
        "!ls gdrive "
      ],
      "id": "0Isd7gXC_bVO",
      "execution_count": 2,
      "outputs": [
        {
          "output_type": "stream",
          "text": [
            "Mounted at /content/gdrive\n",
            "MyDrive\n"
          ],
          "name": "stdout"
        }
      ]
    },
    {
      "cell_type": "code",
      "metadata": {
        "id": "b006822c"
      },
      "source": [
        "from water_demand_forecasting import custom_plots\n",
        "from water_demand_forecasting.wdf_model import WDF_Model\n",
        "import tensorflow\n",
        "import time\n",
        "from tensorflow.keras.layers import Input, Dense, SimpleRNN, GRU, LSTM, Flatten, Dropout, Conv1D, Concatenate,BatchNormalization, ReLU, Add, ZeroPadding1D\n",
        "from tensorflow.keras.models import Model, Sequential\n",
        "from tensorflow.keras.optimizers import Adam\n",
        "from tensorflow.keras.callbacks import EarlyStopping, ModelCheckpoint, ReduceLROnPlateau\n",
        "from tensorflow.keras.callbacks import *\n",
        "from sklearn.preprocessing import StandardScaler, MinMaxScaler\n",
        "from sklearn.metrics import mean_absolute_error, mean_squared_error, r2_score\n",
        "import pandas as pd\n",
        "import numpy as np"
      ],
      "id": "b006822c",
      "execution_count": 3,
      "outputs": []
    },
    {
      "cell_type": "code",
      "metadata": {
        "id": "70ac6129"
      },
      "source": [
        "# variables_model\n",
        "VARIABLES = [\"case_study\"]\n",
        "CONFIG = {\n",
        "    \"case_study\":\n",
        "      {\"train\": '/content/gdrive/MyDrive/DataThesis/DATI/Ferrara/Qh_CS2_14.txt',\n",
        "      \"test\": '/content/gdrive/MyDrive/DataThesis/DATI/Ferrara/Qh_CS2_15.txt'},\n",
        "      \"days\": \n",
        "      {\"train\": 'gdrive/MyDrive/DataThesis/Meteo/days2014.csv',\n",
        "      \"test\": 'gdrive/MyDrive/DataThesis/Meteo/days2015.csv'},\n",
        "\n",
        "    \"precipitation\":\n",
        "      {\"train\": 'gdrive/MyDrive/DataThesis/Meteo/Prec2014CS2.csv',\n",
        "      \"test\": 'gdrive/MyDrive/DataThesis/Meteo/Prec2015CS2.csv'},\n",
        "\n",
        "    \"relative_humidity\":\n",
        "      {\"train\": 'gdrive/MyDrive/DataThesis/Meteo/RH2014CS2.csv',\n",
        "      \"test\": 'gdrive/MyDrive/DataThesis/Meteo/RH2015CS2.csv'},\n",
        "\n",
        "    \"temperature\":\n",
        "      {\"train\": 'gdrive/MyDrive/DataThesis/Meteo/MaxTem2014CS2.csv',\n",
        "      \"test\": 'gdrive/MyDrive/DataThesis/Meteo/MaxTem2015CS2.csv'}} \n",
        "T = 168"
      ],
      "id": "70ac6129",
      "execution_count": 4,
      "outputs": []
    },
    {
      "cell_type": "code",
      "metadata": {
        "id": "52b3ca5f"
      },
      "source": [
        "Xtra, Ytra, Xval, Yval, Xtest, Ytest, scx, scy = WDF_Model.data_preprocessing(\n",
        "    VARIABLES, CONFIG, lookback=T\n",
        ")"
      ],
      "id": "52b3ca5f",
      "execution_count": 5,
      "outputs": []
    },
    {
      "cell_type": "code",
      "metadata": {
        "colab": {
          "base_uri": "https://localhost:8080/"
        },
        "id": "ef73c843",
        "outputId": "9496a151-a35a-4285-b060-b433595d92dd"
      },
      "source": [
        "print(Xtra.shape)\n",
        "print(Ytra.shape)\n",
        "print(Xval.shape)\n",
        "print(Yval.shape)\n",
        "print(Xtest.shape)\n",
        "print(Ytest.shape)"
      ],
      "id": "ef73c843",
      "execution_count": 6,
      "outputs": [
        {
          "output_type": "stream",
          "text": [
            "(6426, 168)\n",
            "(6426, 24)\n",
            "(2142, 168)\n",
            "(2142, 24)\n",
            "(8568, 168)\n",
            "(8568, 24)\n"
          ],
          "name": "stdout"
        }
      ]
    },
    {
      "cell_type": "code",
      "metadata": {
        "colab": {
          "base_uri": "https://localhost:8080/"
        },
        "id": "TviuD2NNv160",
        "outputId": "4d1fcaf1-0946-4da3-f95a-60ea1bce5970"
      },
      "source": [
        "Xtra"
      ],
      "id": "TviuD2NNv160",
      "execution_count": 7,
      "outputs": [
        {
          "output_type": "execute_result",
          "data": {
            "text/plain": [
              "array([[0.74106604, 0.74796691, 0.61002716, ..., 0.63967561, 0.69721788,\n",
              "        0.79867589],\n",
              "       [0.17231393, 0.35764364, 0.57480946, ..., 0.19402526, 0.18409822,\n",
              "        0.14867277],\n",
              "       [0.50465189, 0.63126791, 0.67476816, ..., 0.49403151, 0.46022302,\n",
              "        0.45601542],\n",
              "       ...,\n",
              "       [0.52486139, 0.47360925, 0.34190456, ..., 0.68573145, 0.70656171,\n",
              "        0.57926486],\n",
              "       [0.78986771, 0.78887902, 0.65886387, ..., 0.59386506, 0.60777443,\n",
              "        0.67042539],\n",
              "       [0.41362402, 0.39764464, 0.33287862, ..., 0.7006996 , 0.64862896,\n",
              "        0.49922531]])"
            ]
          },
          "metadata": {
            "tags": []
          },
          "execution_count": 7
        }
      ]
    },
    {
      "cell_type": "code",
      "metadata": {
        "id": "rPaXFGaSAH87"
      },
      "source": [
        "earlyStopping= EarlyStopping(monitor='val_loss', patience=8, verbose=1,  min_delta=1e-4, mode='min')\n",
        "mcp_save = ModelCheckpoint('mdl_wts.hdf5', save_best_only=True, monitor='val_loss', mode='min', save_weights_only=True)\n",
        "lr_reduced = ReduceLROnPlateau(monitor='val_loss', factor=0.5, patience=5, verbose=1, min_delta=1e-3, mode='min')\n",
        "callbacks = [earlyStopping, mcp_save, lr_reduced]"
      ],
      "id": "rPaXFGaSAH87",
      "execution_count": 8,
      "outputs": []
    },
    {
      "cell_type": "code",
      "metadata": {
        "colab": {
          "base_uri": "https://localhost:8080/"
        },
        "id": "UIU0Y1FeAQJl",
        "outputId": "10a5c0c2-9963-4b12-d465-c13d1157c031"
      },
      "source": [
        "# LSTM model\n",
        "i = Input(shape=(T,len(VARIABLES)), name='Input layer')\n",
        "x = LSTM(64, activation='tanh', return_sequences=True)(i)\n",
        "x = LSTM(64, activation='tanh', return_sequences=False)(x)\n",
        "\n",
        "x = Dropout(0.2)(x)\n",
        "x = Dense(64, activation='relu', name='Hidden1')(x)\n",
        "x = Dense(24, activation='linear', name='Output')(x)\n",
        "\n",
        "model = Model(i,x)\n",
        "print(model.summary())\n",
        "\n",
        "# compile\n",
        "optimizer = Adam(learning_rate = 0.005)\n",
        "model.compile(optimizer=optimizer, loss='mae', metrics=['mse'])\n",
        "\n",
        "# train\n",
        "start = time.time()\n",
        "r = model.fit(Xtra, Ytra, verbose = 1, validation_data=(Xval, Yval), epochs=200, callbacks=callbacks, batch_size=32)\n",
        "end = time.time()\n",
        "print('Total training time: ', end-start)"
      ],
      "id": "UIU0Y1FeAQJl",
      "execution_count": 9,
      "outputs": [
        {
          "output_type": "stream",
          "text": [
            "Model: \"model\"\n",
            "_________________________________________________________________\n",
            "Layer (type)                 Output Shape              Param #   \n",
            "=================================================================\n",
            "Input layer (InputLayer)     [(None, 168, 1)]          0         \n",
            "_________________________________________________________________\n",
            "lstm (LSTM)                  (None, 168, 64)           16896     \n",
            "_________________________________________________________________\n",
            "lstm_1 (LSTM)                (None, 64)                33024     \n",
            "_________________________________________________________________\n",
            "dropout (Dropout)            (None, 64)                0         \n",
            "_________________________________________________________________\n",
            "Hidden1 (Dense)              (None, 64)                4160      \n",
            "_________________________________________________________________\n",
            "Output (Dense)               (None, 24)                1560      \n",
            "=================================================================\n",
            "Total params: 55,640\n",
            "Trainable params: 55,640\n",
            "Non-trainable params: 0\n",
            "_________________________________________________________________\n",
            "None\n",
            "Epoch 1/200\n",
            "201/201 [==============================] - 13s 19ms/step - loss: 0.1207 - mse: 0.0282 - val_loss: 0.0612 - val_mse: 0.0063\n",
            "Epoch 2/200\n",
            "201/201 [==============================] - 3s 15ms/step - loss: 0.0637 - mse: 0.0070 - val_loss: 0.0541 - val_mse: 0.0051\n",
            "Epoch 3/200\n",
            "201/201 [==============================] - 3s 15ms/step - loss: 0.0562 - mse: 0.0055 - val_loss: 0.0508 - val_mse: 0.0046\n",
            "Epoch 4/200\n",
            "201/201 [==============================] - 3s 15ms/step - loss: 0.0535 - mse: 0.0050 - val_loss: 0.0467 - val_mse: 0.0038\n",
            "Epoch 5/200\n",
            "201/201 [==============================] - 3s 15ms/step - loss: 0.0509 - mse: 0.0046 - val_loss: 0.0483 - val_mse: 0.0041\n",
            "Epoch 6/200\n",
            "201/201 [==============================] - 3s 15ms/step - loss: 0.0496 - mse: 0.0044 - val_loss: 0.0473 - val_mse: 0.0039\n",
            "Epoch 7/200\n",
            "201/201 [==============================] - 3s 14ms/step - loss: 0.0482 - mse: 0.0041 - val_loss: 0.0447 - val_mse: 0.0036\n",
            "Epoch 8/200\n",
            "201/201 [==============================] - 3s 15ms/step - loss: 0.0479 - mse: 0.0041 - val_loss: 0.0445 - val_mse: 0.0036\n",
            "Epoch 9/200\n",
            "201/201 [==============================] - 3s 15ms/step - loss: 0.0466 - mse: 0.0039 - val_loss: 0.0437 - val_mse: 0.0034\n",
            "Epoch 10/200\n",
            "201/201 [==============================] - 3s 14ms/step - loss: 0.0460 - mse: 0.0038 - val_loss: 0.0440 - val_mse: 0.0035\n",
            "Epoch 11/200\n",
            "201/201 [==============================] - 3s 14ms/step - loss: 0.0460 - mse: 0.0038 - val_loss: 0.0420 - val_mse: 0.0032\n",
            "Epoch 12/200\n",
            "201/201 [==============================] - 3s 14ms/step - loss: 0.0447 - mse: 0.0036 - val_loss: 0.0409 - val_mse: 0.0031\n",
            "Epoch 13/200\n",
            "201/201 [==============================] - 3s 14ms/step - loss: 0.0439 - mse: 0.0035 - val_loss: 0.0428 - val_mse: 0.0032\n",
            "Epoch 14/200\n",
            "201/201 [==============================] - 3s 14ms/step - loss: 0.0440 - mse: 0.0035 - val_loss: 0.0405 - val_mse: 0.0031\n",
            "Epoch 15/200\n",
            "201/201 [==============================] - 3s 15ms/step - loss: 0.0433 - mse: 0.0034 - val_loss: 0.0423 - val_mse: 0.0032\n",
            "Epoch 16/200\n",
            "201/201 [==============================] - 3s 15ms/step - loss: 0.0427 - mse: 0.0033 - val_loss: 0.0426 - val_mse: 0.0032\n",
            "Epoch 17/200\n",
            "201/201 [==============================] - 3s 14ms/step - loss: 0.0418 - mse: 0.0031 - val_loss: 0.0389 - val_mse: 0.0028\n",
            "Epoch 18/200\n",
            "201/201 [==============================] - 3s 14ms/step - loss: 0.0421 - mse: 0.0032 - val_loss: 0.0420 - val_mse: 0.0032\n",
            "Epoch 19/200\n",
            "201/201 [==============================] - 3s 14ms/step - loss: 0.0413 - mse: 0.0031 - val_loss: 0.0389 - val_mse: 0.0027\n",
            "Epoch 20/200\n",
            "201/201 [==============================] - 3s 14ms/step - loss: 0.0408 - mse: 0.0030 - val_loss: 0.0383 - val_mse: 0.0027\n",
            "Epoch 21/200\n",
            "201/201 [==============================] - 3s 15ms/step - loss: 0.0404 - mse: 0.0029 - val_loss: 0.0387 - val_mse: 0.0028\n",
            "Epoch 22/200\n",
            "201/201 [==============================] - 3s 15ms/step - loss: 0.0399 - mse: 0.0029 - val_loss: 0.0352 - val_mse: 0.0023\n",
            "Epoch 23/200\n",
            "201/201 [==============================] - 3s 15ms/step - loss: 0.0390 - mse: 0.0027 - val_loss: 0.0385 - val_mse: 0.0026\n",
            "Epoch 24/200\n",
            "201/201 [==============================] - 3s 15ms/step - loss: 0.0390 - mse: 0.0027 - val_loss: 0.0360 - val_mse: 0.0023\n",
            "Epoch 25/200\n",
            "201/201 [==============================] - 3s 15ms/step - loss: 0.0383 - mse: 0.0026 - val_loss: 0.0350 - val_mse: 0.0022\n",
            "Epoch 26/200\n",
            "201/201 [==============================] - 3s 15ms/step - loss: 0.0381 - mse: 0.0026 - val_loss: 0.0348 - val_mse: 0.0022\n",
            "Epoch 27/200\n",
            "201/201 [==============================] - 3s 15ms/step - loss: 0.0378 - mse: 0.0026 - val_loss: 0.0348 - val_mse: 0.0022\n",
            "\n",
            "Epoch 00027: ReduceLROnPlateau reducing learning rate to 0.0024999999441206455.\n",
            "Epoch 28/200\n",
            "201/201 [==============================] - 3s 15ms/step - loss: 0.0350 - mse: 0.0022 - val_loss: 0.0323 - val_mse: 0.0019\n",
            "Epoch 29/200\n",
            "201/201 [==============================] - 3s 15ms/step - loss: 0.0344 - mse: 0.0022 - val_loss: 0.0323 - val_mse: 0.0019\n",
            "Epoch 30/200\n",
            "201/201 [==============================] - 3s 15ms/step - loss: 0.0345 - mse: 0.0022 - val_loss: 0.0332 - val_mse: 0.0020\n",
            "Epoch 31/200\n",
            "201/201 [==============================] - 3s 14ms/step - loss: 0.0340 - mse: 0.0021 - val_loss: 0.0317 - val_mse: 0.0018\n",
            "Epoch 32/200\n",
            "201/201 [==============================] - 3s 15ms/step - loss: 0.0340 - mse: 0.0021 - val_loss: 0.0318 - val_mse: 0.0019\n",
            "Epoch 33/200\n",
            "201/201 [==============================] - 3s 15ms/step - loss: 0.0339 - mse: 0.0021 - val_loss: 0.0306 - val_mse: 0.0017\n",
            "Epoch 34/200\n",
            "201/201 [==============================] - 3s 15ms/step - loss: 0.0339 - mse: 0.0021 - val_loss: 0.0319 - val_mse: 0.0018\n",
            "Epoch 35/200\n",
            "201/201 [==============================] - 3s 14ms/step - loss: 0.0334 - mse: 0.0021 - val_loss: 0.0303 - val_mse: 0.0017\n",
            "Epoch 36/200\n",
            "201/201 [==============================] - 3s 15ms/step - loss: 0.0333 - mse: 0.0020 - val_loss: 0.0302 - val_mse: 0.0017\n",
            "Epoch 37/200\n",
            "201/201 [==============================] - 3s 14ms/step - loss: 0.0333 - mse: 0.0020 - val_loss: 0.0305 - val_mse: 0.0017\n",
            "Epoch 38/200\n",
            "201/201 [==============================] - 3s 14ms/step - loss: 0.0330 - mse: 0.0020 - val_loss: 0.0307 - val_mse: 0.0017\n",
            "\n",
            "Epoch 00038: ReduceLROnPlateau reducing learning rate to 0.0012499999720603228.\n",
            "Epoch 39/200\n",
            "201/201 [==============================] - 3s 14ms/step - loss: 0.0316 - mse: 0.0019 - val_loss: 0.0293 - val_mse: 0.0016\n",
            "Epoch 40/200\n",
            "201/201 [==============================] - 3s 14ms/step - loss: 0.0314 - mse: 0.0018 - val_loss: 0.0290 - val_mse: 0.0016\n",
            "Epoch 41/200\n",
            "201/201 [==============================] - 3s 15ms/step - loss: 0.0315 - mse: 0.0018 - val_loss: 0.0292 - val_mse: 0.0016\n",
            "Epoch 42/200\n",
            "201/201 [==============================] - 3s 15ms/step - loss: 0.0312 - mse: 0.0018 - val_loss: 0.0290 - val_mse: 0.0015\n",
            "Epoch 43/200\n",
            "201/201 [==============================] - 3s 15ms/step - loss: 0.0313 - mse: 0.0018 - val_loss: 0.0287 - val_mse: 0.0015\n",
            "Epoch 44/200\n",
            "201/201 [==============================] - 3s 15ms/step - loss: 0.0311 - mse: 0.0018 - val_loss: 0.0290 - val_mse: 0.0016\n",
            "\n",
            "Epoch 00044: ReduceLROnPlateau reducing learning rate to 0.0006249999860301614.\n",
            "Epoch 45/200\n",
            "201/201 [==============================] - 3s 15ms/step - loss: 0.0304 - mse: 0.0017 - val_loss: 0.0286 - val_mse: 0.0015\n",
            "Epoch 46/200\n",
            "201/201 [==============================] - 3s 15ms/step - loss: 0.0303 - mse: 0.0017 - val_loss: 0.0278 - val_mse: 0.0014\n",
            "Epoch 47/200\n",
            "201/201 [==============================] - 3s 15ms/step - loss: 0.0303 - mse: 0.0017 - val_loss: 0.0286 - val_mse: 0.0015\n",
            "Epoch 48/200\n",
            "201/201 [==============================] - 3s 15ms/step - loss: 0.0301 - mse: 0.0017 - val_loss: 0.0279 - val_mse: 0.0014\n",
            "Epoch 49/200\n",
            "201/201 [==============================] - 3s 15ms/step - loss: 0.0300 - mse: 0.0017 - val_loss: 0.0282 - val_mse: 0.0015\n",
            "Epoch 50/200\n",
            "201/201 [==============================] - 3s 15ms/step - loss: 0.0300 - mse: 0.0017 - val_loss: 0.0279 - val_mse: 0.0014\n",
            "Epoch 51/200\n",
            "201/201 [==============================] - 3s 15ms/step - loss: 0.0299 - mse: 0.0017 - val_loss: 0.0280 - val_mse: 0.0014\n",
            "\n",
            "Epoch 00051: ReduceLROnPlateau reducing learning rate to 0.0003124999930150807.\n",
            "Epoch 52/200\n",
            "201/201 [==============================] - 3s 14ms/step - loss: 0.0296 - mse: 0.0016 - val_loss: 0.0273 - val_mse: 0.0014\n",
            "Epoch 53/200\n",
            "201/201 [==============================] - 3s 15ms/step - loss: 0.0294 - mse: 0.0016 - val_loss: 0.0273 - val_mse: 0.0014\n",
            "Epoch 54/200\n",
            "201/201 [==============================] - 3s 15ms/step - loss: 0.0294 - mse: 0.0016 - val_loss: 0.0270 - val_mse: 0.0014\n",
            "Epoch 55/200\n",
            "201/201 [==============================] - 3s 15ms/step - loss: 0.0294 - mse: 0.0016 - val_loss: 0.0279 - val_mse: 0.0014\n",
            "Epoch 56/200\n",
            "201/201 [==============================] - 3s 15ms/step - loss: 0.0294 - mse: 0.0016 - val_loss: 0.0276 - val_mse: 0.0014\n",
            "\n",
            "Epoch 00056: ReduceLROnPlateau reducing learning rate to 0.00015624999650754035.\n",
            "Epoch 57/200\n",
            "201/201 [==============================] - 3s 15ms/step - loss: 0.0291 - mse: 0.0016 - val_loss: 0.0271 - val_mse: 0.0014\n",
            "Epoch 58/200\n",
            "201/201 [==============================] - 3s 15ms/step - loss: 0.0290 - mse: 0.0016 - val_loss: 0.0270 - val_mse: 0.0014\n",
            "Epoch 59/200\n",
            "201/201 [==============================] - 3s 15ms/step - loss: 0.0291 - mse: 0.0016 - val_loss: 0.0274 - val_mse: 0.0014\n",
            "Epoch 60/200\n",
            "201/201 [==============================] - 3s 15ms/step - loss: 0.0289 - mse: 0.0016 - val_loss: 0.0270 - val_mse: 0.0014\n",
            "Epoch 61/200\n",
            "201/201 [==============================] - 3s 15ms/step - loss: 0.0292 - mse: 0.0016 - val_loss: 0.0272 - val_mse: 0.0014\n",
            "\n",
            "Epoch 00061: ReduceLROnPlateau reducing learning rate to 7.812499825377017e-05.\n",
            "Epoch 62/200\n",
            "201/201 [==============================] - 3s 15ms/step - loss: 0.0290 - mse: 0.0016 - val_loss: 0.0269 - val_mse: 0.0013\n",
            "Epoch 63/200\n",
            "201/201 [==============================] - 3s 15ms/step - loss: 0.0290 - mse: 0.0016 - val_loss: 0.0272 - val_mse: 0.0014\n",
            "Epoch 64/200\n",
            "201/201 [==============================] - 3s 15ms/step - loss: 0.0289 - mse: 0.0016 - val_loss: 0.0270 - val_mse: 0.0014\n",
            "Epoch 65/200\n",
            "201/201 [==============================] - 3s 14ms/step - loss: 0.0289 - mse: 0.0016 - val_loss: 0.0270 - val_mse: 0.0013\n",
            "Epoch 66/200\n",
            "201/201 [==============================] - 3s 14ms/step - loss: 0.0289 - mse: 0.0016 - val_loss: 0.0269 - val_mse: 0.0013\n",
            "\n",
            "Epoch 00066: ReduceLROnPlateau reducing learning rate to 3.9062499126885086e-05.\n",
            "Epoch 67/200\n",
            "201/201 [==============================] - 3s 15ms/step - loss: 0.0287 - mse: 0.0015 - val_loss: 0.0270 - val_mse: 0.0014\n",
            "Epoch 68/200\n",
            "201/201 [==============================] - 3s 14ms/step - loss: 0.0289 - mse: 0.0016 - val_loss: 0.0268 - val_mse: 0.0013\n",
            "Epoch 69/200\n",
            "201/201 [==============================] - 3s 15ms/step - loss: 0.0289 - mse: 0.0016 - val_loss: 0.0269 - val_mse: 0.0013\n",
            "Epoch 70/200\n",
            "201/201 [==============================] - 3s 14ms/step - loss: 0.0288 - mse: 0.0015 - val_loss: 0.0270 - val_mse: 0.0013\n",
            "Epoch 00070: early stopping\n",
            "Total training time:  219.34208726882935\n"
          ],
          "name": "stdout"
        }
      ]
    },
    {
      "cell_type": "code",
      "metadata": {
        "colab": {
          "base_uri": "https://localhost:8080/",
          "height": 374
        },
        "id": "gObNyktsAUG4",
        "outputId": "ad857c19-60d4-4a43-eef4-0c979b46264f"
      },
      "source": [
        "custom_plots.loss_plot(r, 'LSTM', color = 'b')"
      ],
      "id": "gObNyktsAUG4",
      "execution_count": 10,
      "outputs": [
        {
          "output_type": "display_data",
          "data": {
            "image/png": "[encoded data removed]",
            "text/plain": [
              "<Figure size 1296x432 with 2 Axes>"
            ]
          },
          "metadata": {
            "tags": [],
            "needs_background": "light"
          }
        }
      ]
    },
    {
      "cell_type": "code",
      "metadata": {
        "colab": {
          "base_uri": "https://localhost:8080/"
        },
        "id": "TGg6Bu0mBHi0",
        "outputId": "fa1cd851-5360-4480-a5ee-9e9654788611"
      },
      "source": [
        "def print_metrics(y,ypred,dataset):\n",
        "  y = scy.inverse_transform(y) \n",
        "  ypred = scy.inverse_transform(ypred)\n",
        "  print(f'{dataset}\\t\\tRMSE:{mean_squared_error(y,ypred)**0.5:.3f}\\tMAE:{mean_absolute_error(y,ypred):.3f}\\tR2:{r2_score(y,ypred):.3f}')\n",
        "\n",
        "print_metrics(Ytra.reshape(-1,1),model.predict(Xtra).reshape(-1,1),'Train')\n",
        "print_metrics(Yval.reshape(-1,1),model.predict(Xval).reshape(-1,1),'Val')\n",
        "print_metrics(Ytest.reshape(-1,1),model.predict(Xtest).reshape(-1,1),'Test')"
      ],
      "id": "TGg6Bu0mBHi0",
      "execution_count": 11,
      "outputs": [
        {
          "output_type": "stream",
          "text": [
            "Train\t\tRMSE:35.713\tMAE:25.970\tR2:0.967\n",
            "Val\t\tRMSE:36.671\tMAE:26.926\tR2:0.965\n",
            "Test\t\tRMSE:61.612\tMAE:45.480\tR2:0.896\n"
          ],
          "name": "stdout"
        }
      ]
    },
    {
      "cell_type": "code",
      "metadata": {
        "id": "PTa08QJKTObq",
        "colab": {
          "base_uri": "https://localhost:8080/"
        },
        "outputId": "4a757528-7d81-4e1f-8809-fd6fd2f24eaa"
      },
      "source": [
        "Y_hatval = model.predict(Xval)\n",
        "Y_val = scy.inverse_transform(Yval)\n",
        "Yhatval = scy.inverse_transform(Y_hatval)\n",
        "dat1y1 = pd.DataFrame(Y_val)\n",
        "dat2y1 = pd.DataFrame(Yhatval)\n",
        "e = 100*np.sum(np.abs((dat1y1 - dat2y1)/np.mean(dat1y1, axis = 0)), axis = 0)/len(dat1y1)\n",
        "print(f'MAE% Y1 = {e.mean()}')"
      ],
      "id": "PTa08QJKTObq",
      "execution_count": 12,
      "outputs": [
        {
          "output_type": "stream",
          "text": [
            "MAE% Y1 = 2.876999618781621\n"
          ],
          "name": "stdout"
        }
      ]
    },
    {
      "cell_type": "code",
      "metadata": {
        "id": "37yFiMWfTTLE",
        "colab": {
          "base_uri": "https://localhost:8080/"
        },
        "outputId": "23387765-fcfb-42ed-fb7c-7c9a5f1fc88d"
      },
      "source": [
        "Y_hat = model.predict(Xtest)\n",
        "Y_test = scy.inverse_transform(Ytest)\n",
        "Yhat = scy.inverse_transform(Y_hat)\n",
        "dat1y2 = pd.DataFrame(Y_test)\n",
        "dat2y2 = pd.DataFrame(Yhat)\n",
        "e = 100*np.sum(np.abs((dat1y2 - dat2y2)/np.mean(dat1y2, axis = 0)), axis = 0)/len(dat1y2)\n",
        "print(f'MAE% Y2 = {e.mean()}')"
      ],
      "id": "37yFiMWfTTLE",
      "execution_count": 13,
      "outputs": [
        {
          "output_type": "stream",
          "text": [
            "MAE% Y2 = 4.702506286696316\n"
          ],
          "name": "stdout"
        }
      ]
    },
    {
      "cell_type": "code",
      "metadata": {
        "id": "8MiU0GAM_v5H"
      },
      "source": [
        ""
      ],
      "id": "8MiU0GAM_v5H",
      "execution_count": null,
      "outputs": []
    }
  ]
}