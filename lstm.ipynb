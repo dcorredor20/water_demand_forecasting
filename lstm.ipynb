{
  "nbformat": 4,
  "nbformat_minor": 5,
  "metadata": {
    "kernelspec": {
      "display_name": "water_Demand_forecasting",
      "language": "python",
      "name": "water_demand_forecasting"
    },
    "language_info": {
      "codemirror_mode": {
        "name": "ipython",
        "version": 3
      },
      "file_extension": ".py",
      "mimetype": "text/x-python",
      "name": "python",
      "nbconvert_exporter": "python",
      "pygments_lexer": "ipython3",
      "version": "3.7.7"
    },
    "colab": {
      "name": "lstm.ipynb",
      "provenance": [],
      "collapsed_sections": [],
      "include_colab_link": true
    },
    "accelerator": "GPU"
  },
  "cells": [
    {
      "cell_type": "markdown",
      "metadata": {
        "id": "view-in-github",
        "colab_type": "text"
      },
      "source": [
        "<a href=\"https://colab.research.google.com/github/dcorredor20/water_demand_forecasting/blob/main/lstm.ipynb\" target=\"_parent\"><img src=\"https://colab.research.google.com/assets/colab-badge.svg\" alt=\"Open In Colab\"/></a>"
      ]
    },
    {
      "cell_type": "code",
      "metadata": {
        "colab": {
          "base_uri": "https://localhost:8080/"
        },
        "id": "yfBRGyJ1vP6B",
        "outputId": "5e1bd0bd-9ec5-4659-fb99-c8589c2663d9"
      },
      "source": [
        "from google.colab import drive\n",
        "drive.mount('/content/gdrive', force_remount=True)\n",
        "\n",
        "!ls gdrive "
      ],
      "id": "yfBRGyJ1vP6B",
      "execution_count": 7,
      "outputs": [
        {
          "output_type": "stream",
          "text": [
            "Mounted at /content/gdrive\n",
            "MyDrive\n"
          ],
          "name": "stdout"
        }
      ]
    },
    {
      "cell_type": "code",
      "metadata": {
        "colab": {
          "base_uri": "https://localhost:8080/"
        },
        "id": "wuXd_H1eU0IW",
        "outputId": "0c261437-7500-4041-a913-0cb075d43a68"
      },
      "source": [
        "!pip uninstall water_demand_forecasting"
      ],
      "id": "wuXd_H1eU0IW",
      "execution_count": 1,
      "outputs": [
        {
          "output_type": "stream",
          "text": [
            "Found existing installation: water-demand-forecasting 0.0.1\n",
            "Uninstalling water-demand-forecasting-0.0.1:\n",
            "  Would remove:\n",
            "    /usr/local/bin/water_demand_forecasting\n",
            "    /usr/local/lib/python3.7/dist-packages/water_demand_forecasting-0.0.1.dist-info/*\n",
            "    /usr/local/lib/python3.7/dist-packages/water_demand_forecasting/*\n",
            "Proceed (y/n)? y\n",
            "  Successfully uninstalled water-demand-forecasting-0.0.1\n"
          ],
          "name": "stdout"
        }
      ]
    },
    {
      "cell_type": "code",
      "metadata": {
        "colab": {
          "base_uri": "https://localhost:8080/"
        },
        "id": "NzRRARMg-YAm",
        "outputId": "7b7a3333-cc2d-42a1-86f0-7dab20dc56eb"
      },
      "source": [
        "!pip install git+https://github.com/dcorredor20/water_demand_forecasting.git"
      ],
      "id": "NzRRARMg-YAm",
      "execution_count": 2,
      "outputs": [
        {
          "output_type": "stream",
          "text": [
            "Collecting git+https://github.com/dcorredor20/water_demand_forecasting.git\n",
            "  Cloning https://github.com/dcorredor20/water_demand_forecasting.git to /tmp/pip-req-build-_pszjgna\n",
            "  Running command git clone -q https://github.com/dcorredor20/water_demand_forecasting.git /tmp/pip-req-build-_pszjgna\n",
            "  Installing build dependencies ... \u001b[?25l\u001b[?25hdone\n",
            "  Getting requirements to build wheel ... \u001b[?25l\u001b[?25hdone\n",
            "    Preparing wheel metadata ... \u001b[?25l\u001b[?25hdone\n",
            "Requirement already satisfied: pyyaml<6.0.0,>=5.3.1 in /usr/local/lib/python3.7/dist-packages (from water-demand-forecasting==0.0.1) (5.4.1)\n",
            "Requirement already satisfied: pandas>=0.24.0 in /usr/local/lib/python3.7/dist-packages (from water-demand-forecasting==0.0.1) (1.1.5)\n",
            "Requirement already satisfied: lint<2.0.0,>=1.2.1 in /usr/local/lib/python3.7/dist-packages (from water-demand-forecasting==0.0.1) (1.2.1)\n",
            "Requirement already satisfied: sklearn<0.1,>=0.0 in /usr/local/lib/python3.7/dist-packages (from water-demand-forecasting==0.0.1) (0.0)\n",
            "Requirement already satisfied: click<8.0.0,>=7.1.2 in /usr/local/lib/python3.7/dist-packages (from water-demand-forecasting==0.0.1) (7.1.2)\n",
            "Requirement already satisfied: numpy<2.0.0,>=1.19.5 in /usr/local/lib/python3.7/dist-packages (from water-demand-forecasting==0.0.1) (1.19.5)\n",
            "Requirement already satisfied: matplotlib==3.1.3 in /usr/local/lib/python3.7/dist-packages (from water-demand-forecasting==0.0.1) (3.1.3)\n",
            "Requirement already satisfied: python-dateutil>=2.1 in /usr/local/lib/python3.7/dist-packages (from matplotlib==3.1.3->water-demand-forecasting==0.0.1) (2.8.1)\n",
            "Requirement already satisfied: kiwisolver>=1.0.1 in /usr/local/lib/python3.7/dist-packages (from matplotlib==3.1.3->water-demand-forecasting==0.0.1) (1.3.1)\n",
            "Requirement already satisfied: pyparsing!=2.0.4,!=2.1.2,!=2.1.6,>=2.0.1 in /usr/local/lib/python3.7/dist-packages (from matplotlib==3.1.3->water-demand-forecasting==0.0.1) (2.4.7)\n",
            "Requirement already satisfied: cycler>=0.10 in /usr/local/lib/python3.7/dist-packages (from matplotlib==3.1.3->water-demand-forecasting==0.0.1) (0.10.0)\n",
            "Requirement already satisfied: six in /usr/local/lib/python3.7/dist-packages (from cycler>=0.10->matplotlib==3.1.3->water-demand-forecasting==0.0.1) (1.15.0)\n",
            "Requirement already satisfied: gitpython in /usr/local/lib/python3.7/dist-packages (from lint<2.0.0,>=1.2.1->water-demand-forecasting==0.0.1) (3.1.18)\n",
            "Requirement already satisfied: pylint in /usr/local/lib/python3.7/dist-packages (from lint<2.0.0,>=1.2.1->water-demand-forecasting==0.0.1) (2.9.6)\n",
            "Requirement already satisfied: pytz>=2017.2 in /usr/local/lib/python3.7/dist-packages (from pandas>=0.24.0->water-demand-forecasting==0.0.1) (2018.9)\n",
            "Requirement already satisfied: scikit-learn in /usr/local/lib/python3.7/dist-packages (from sklearn<0.1,>=0.0->water-demand-forecasting==0.0.1) (0.22.2.post1)\n",
            "Requirement already satisfied: typing-extensions>=3.7.4.0 in /usr/local/lib/python3.7/dist-packages (from gitpython->lint<2.0.0,>=1.2.1->water-demand-forecasting==0.0.1) (3.7.4.3)\n",
            "Requirement already satisfied: gitdb<5,>=4.0.1 in /usr/local/lib/python3.7/dist-packages (from gitpython->lint<2.0.0,>=1.2.1->water-demand-forecasting==0.0.1) (4.0.7)\n",
            "Requirement already satisfied: smmap<5,>=3.0.1 in /usr/local/lib/python3.7/dist-packages (from gitdb<5,>=4.0.1->gitpython->lint<2.0.0,>=1.2.1->water-demand-forecasting==0.0.1) (4.0.0)\n",
            "Requirement already satisfied: mccabe<0.7,>=0.6 in /usr/local/lib/python3.7/dist-packages (from pylint->lint<2.0.0,>=1.2.1->water-demand-forecasting==0.0.1) (0.6.1)\n",
            "Requirement already satisfied: toml>=0.7.1 in /usr/local/lib/python3.7/dist-packages (from pylint->lint<2.0.0,>=1.2.1->water-demand-forecasting==0.0.1) (0.10.2)\n",
            "Requirement already satisfied: astroid<2.7,>=2.6.5 in /usr/local/lib/python3.7/dist-packages (from pylint->lint<2.0.0,>=1.2.1->water-demand-forecasting==0.0.1) (2.6.6)\n",
            "Requirement already satisfied: isort<6,>=4.2.5 in /usr/local/lib/python3.7/dist-packages (from pylint->lint<2.0.0,>=1.2.1->water-demand-forecasting==0.0.1) (5.9.3)\n",
            "Requirement already satisfied: wrapt<1.13,>=1.11 in /usr/local/lib/python3.7/dist-packages (from astroid<2.7,>=2.6.5->pylint->lint<2.0.0,>=1.2.1->water-demand-forecasting==0.0.1) (1.12.1)\n",
            "Requirement already satisfied: lazy-object-proxy>=1.4.0 in /usr/local/lib/python3.7/dist-packages (from astroid<2.7,>=2.6.5->pylint->lint<2.0.0,>=1.2.1->water-demand-forecasting==0.0.1) (1.6.0)\n",
            "Requirement already satisfied: setuptools>=20.0 in /usr/local/lib/python3.7/dist-packages (from astroid<2.7,>=2.6.5->pylint->lint<2.0.0,>=1.2.1->water-demand-forecasting==0.0.1) (57.2.0)\n",
            "Requirement already satisfied: typed-ast<1.5,>=1.4.0 in /usr/local/lib/python3.7/dist-packages (from astroid<2.7,>=2.6.5->pylint->lint<2.0.0,>=1.2.1->water-demand-forecasting==0.0.1) (1.4.3)\n",
            "Requirement already satisfied: scipy>=0.17.0 in /usr/local/lib/python3.7/dist-packages (from scikit-learn->sklearn<0.1,>=0.0->water-demand-forecasting==0.0.1) (1.4.1)\n",
            "Requirement already satisfied: joblib>=0.11 in /usr/local/lib/python3.7/dist-packages (from scikit-learn->sklearn<0.1,>=0.0->water-demand-forecasting==0.0.1) (1.0.1)\n",
            "Building wheels for collected packages: water-demand-forecasting\n",
            "  Building wheel for water-demand-forecasting (PEP 517) ... \u001b[?25l\u001b[?25hdone\n",
            "  Created wheel for water-demand-forecasting: filename=water_demand_forecasting-0.0.1-py3-none-any.whl size=17805 sha256=e9f7ba8884714928c05c8624bd534b8debcde65f46ce2005d84d57fe084339bd\n",
            "  Stored in directory: /tmp/pip-ephem-wheel-cache-83fbtdme/wheels/2f/47/b1/f51c80e9f15b054e52593ae345c3a46af1059acebccc65736c\n",
            "Successfully built water-demand-forecasting\n",
            "Installing collected packages: water-demand-forecasting\n",
            "Successfully installed water-demand-forecasting-0.0.1\n"
          ],
          "name": "stdout"
        }
      ]
    },
    {
      "cell_type": "code",
      "metadata": {
        "id": "b006822c"
      },
      "source": [
        "from water_demand_forecasting import custom_plots\n",
        "from water_demand_forecasting.wdf_model import WDF_Model\n",
        "import tensorflow\n",
        "import time\n",
        "from tensorflow.keras.layers import Input, Dense, SimpleRNN, GRU, LSTM, Flatten, Dropout, Conv1D, Concatenate,BatchNormalization, ReLU, Add, ZeroPadding1D\n",
        "from tensorflow.keras.models import Model, Sequential\n",
        "from tensorflow.keras.optimizers import Adam\n",
        "from tensorflow.keras.callbacks import EarlyStopping, ModelCheckpoint, ReduceLROnPlateau\n",
        "from tensorflow.keras.callbacks import *\n",
        "from sklearn.preprocessing import StandardScaler, MinMaxScaler\n",
        "from sklearn.metrics import mean_absolute_error, mean_squared_error, r2_score\n",
        "import pandas as pd\n",
        "import numpy as np"
      ],
      "id": "b006822c",
      "execution_count": 6,
      "outputs": []
    },
    {
      "cell_type": "code",
      "metadata": {
        "id": "70ac6129"
      },
      "source": [
        "# variables_model\n",
        "VARIABLES = [\"case_study\"]\n",
        "CONFIG = {\n",
        "    \"case_study\":\n",
        "      {\"train\": '/content/gdrive/MyDrive/DataThesis/DATI/Ferrara/Qh_CS2_14.txt',\n",
        "      \"test\": '/content/gdrive/MyDrive/DataThesis/DATI/Ferrara/Qh_CS2_15.txt'},\n",
        "      \"days\": \n",
        "      {\"train\": 'gdrive/MyDrive/DataThesis/Meteo/days2014.csv',\n",
        "      \"test\": 'gdrive/MyDrive/DataThesis/Meteo/days2015.csv'},\n",
        "\n",
        "    \"precipitation\":\n",
        "      {\"train\": 'gdrive/MyDrive/DataThesis/Meteo/Prec2014CS2.csv',\n",
        "      \"test\": 'gdrive/MyDrive/DataThesis/Meteo/Prec2015CS2.csv'},\n",
        "\n",
        "    \"relative_humidity\":\n",
        "      {\"train\": 'gdrive/MyDrive/DataThesis/Meteo/RH2014CS2.csv',\n",
        "      \"test\": 'gdrive/MyDrive/DataThesis/Meteo/RH2015CS2.csv'},\n",
        "\n",
        "    \"temperature\":\n",
        "      {\"train\": 'gdrive/MyDrive/DataThesis/Meteo/MaxTem2014CS2.csv',\n",
        "      \"test\": 'gdrive/MyDrive/DataThesis/Meteo/MaxTem2015CS2.csv'}} \n",
        "T = 168"
      ],
      "id": "70ac6129",
      "execution_count": 8,
      "outputs": []
    },
    {
      "cell_type": "code",
      "metadata": {
        "id": "52b3ca5f"
      },
      "source": [
        "Xtra, Ytra, Xval, Yval, Xtest, Ytest, scx, scy = WDF_Model.data_preprocessing(\n",
        "    VARIABLES, CONFIG, lookback=T\n",
        ")"
      ],
      "id": "52b3ca5f",
      "execution_count": 9,
      "outputs": []
    },
    {
      "cell_type": "code",
      "metadata": {
        "colab": {
          "base_uri": "https://localhost:8080/"
        },
        "id": "ef73c843",
        "outputId": "40e4168b-4628-4a9a-e06b-f498b284f81d"
      },
      "source": [
        "print(Xtra.shape)\n",
        "print(Ytra.shape)\n",
        "print(Xval.shape)\n",
        "print(Yval.shape)\n",
        "print(Xtest.shape)\n",
        "print(Ytest.shape)"
      ],
      "id": "ef73c843",
      "execution_count": 10,
      "outputs": [
        {
          "output_type": "stream",
          "text": [
            "(6426, 168)\n",
            "(6426, 24)\n",
            "(2142, 168)\n",
            "(2142, 24)\n",
            "(8568, 168)\n",
            "(8568, 24)\n"
          ],
          "name": "stdout"
        }
      ]
    },
    {
      "cell_type": "code",
      "metadata": {
        "colab": {
          "base_uri": "https://localhost:8080/"
        },
        "id": "TviuD2NNv160",
        "outputId": "a10caca3-bea9-4163-b551-b26731b91a6a"
      },
      "source": [
        "Xtra"
      ],
      "id": "TviuD2NNv160",
      "execution_count": 11,
      "outputs": [
        {
          "output_type": "execute_result",
          "data": {
            "text/plain": [
              "array([[0.20786704, 0.21688047, 0.16928276, ..., 0.37166564, 0.29223183,\n",
              "        0.25078908],\n",
              "       [0.27934871, 0.41683291, 0.68501058, ..., 0.2996283 , 0.28349374,\n",
              "        0.28968875],\n",
              "       [0.28407694, 0.24875411, 0.22275259, ..., 0.51677659, 0.46769959,\n",
              "        0.39806265],\n",
              "       ...,\n",
              "       [0.74610715, 0.82855212, 0.85919427, ..., 0.61182934, 0.60194236,\n",
              "        0.60297611],\n",
              "       [0.5003717 , 0.38282167, 0.34884798, ..., 0.64292955, 0.54289076,\n",
              "        0.53593232],\n",
              "       [0.68030487, 0.71299451, 0.57084715, ..., 0.51402826, 0.53266586,\n",
              "        0.65062889]])"
            ]
          },
          "metadata": {
            "tags": []
          },
          "execution_count": 11
        }
      ]
    },
    {
      "cell_type": "code",
      "metadata": {
        "id": "rPaXFGaSAH87"
      },
      "source": [
        "earlyStopping= EarlyStopping(monitor='val_loss', patience=8, verbose=1,  min_delta=1e-4, mode='min')\n",
        "mcp_save = ModelCheckpoint('mdl_wts.hdf5', save_best_only=True, monitor='val_loss', mode='min', save_weights_only=True)\n",
        "lr_reduced = ReduceLROnPlateau(monitor='val_loss', factor=0.5, patience=5, verbose=1, min_delta=1e-3, mode='min')\n",
        "callbacks = [earlyStopping, mcp_save, lr_reduced]"
      ],
      "id": "rPaXFGaSAH87",
      "execution_count": 12,
      "outputs": []
    },
    {
      "cell_type": "code",
      "metadata": {
        "colab": {
          "base_uri": "https://localhost:8080/"
        },
        "id": "UIU0Y1FeAQJl",
        "outputId": "79ced392-cdef-4fee-d18a-475a7c10a355"
      },
      "source": [
        "# LSTM model\n",
        "i = Input(shape=(T,len(VARIABLES)), name='Input layer')\n",
        "x = LSTM(64, activation='tanh', return_sequences=True)(i)\n",
        "x = LSTM(64, activation='tanh', return_sequences=False)(x)\n",
        "\n",
        "x = Dropout(0.2)(x)\n",
        "x = Dense(64, activation='relu', name='Hidden1')(x)\n",
        "x = Dense(24, activation='linear', name='Output')(x)\n",
        "\n",
        "model = Model(i,x)\n",
        "print(model.summary())\n",
        "\n",
        "# compile\n",
        "optimizer = Adam(learning_rate = 0.005)\n",
        "model.compile(optimizer=optimizer, loss='mae', metrics=['mse'])\n",
        "\n",
        "# train\n",
        "start = time.time()\n",
        "r = model.fit(Xtra, Ytra, verbose = 1, validation_data=(Xval, Yval), epochs=200, callbacks=callbacks, batch_size=32)\n",
        "end = time.time()\n",
        "print('Total training time: ', end-start)"
      ],
      "id": "UIU0Y1FeAQJl",
      "execution_count": 13,
      "outputs": [
        {
          "output_type": "stream",
          "text": [
            "Model: \"model\"\n",
            "_________________________________________________________________\n",
            "Layer (type)                 Output Shape              Param #   \n",
            "=================================================================\n",
            "Input layer (InputLayer)     [(None, 168, 1)]          0         \n",
            "_________________________________________________________________\n",
            "lstm (LSTM)                  (None, 168, 64)           16896     \n",
            "_________________________________________________________________\n",
            "lstm_1 (LSTM)                (None, 64)                33024     \n",
            "_________________________________________________________________\n",
            "dropout (Dropout)            (None, 64)                0         \n",
            "_________________________________________________________________\n",
            "Hidden1 (Dense)              (None, 64)                4160      \n",
            "_________________________________________________________________\n",
            "Output (Dense)               (None, 24)                1560      \n",
            "=================================================================\n",
            "Total params: 55,640\n",
            "Trainable params: 55,640\n",
            "Non-trainable params: 0\n",
            "_________________________________________________________________\n",
            "None\n",
            "Epoch 1/200\n",
            "201/201 [==============================] - 8s 19ms/step - loss: 0.1228 - mse: 0.0284 - val_loss: 0.0637 - val_mse: 0.0068\n",
            "Epoch 2/200\n",
            "201/201 [==============================] - 3s 17ms/step - loss: 0.0655 - mse: 0.0073 - val_loss: 0.0582 - val_mse: 0.0058\n",
            "Epoch 3/200\n",
            "201/201 [==============================] - 3s 16ms/step - loss: 0.0586 - mse: 0.0059 - val_loss: 0.0537 - val_mse: 0.0051\n",
            "Epoch 4/200\n",
            "201/201 [==============================] - 3s 16ms/step - loss: 0.0551 - mse: 0.0052 - val_loss: 0.0509 - val_mse: 0.0044\n",
            "Epoch 5/200\n",
            "201/201 [==============================] - 3s 17ms/step - loss: 0.0525 - mse: 0.0048 - val_loss: 0.0465 - val_mse: 0.0039\n",
            "Epoch 6/200\n",
            "201/201 [==============================] - 3s 17ms/step - loss: 0.0505 - mse: 0.0045 - val_loss: 0.0454 - val_mse: 0.0038\n",
            "Epoch 7/200\n",
            "201/201 [==============================] - 3s 16ms/step - loss: 0.0490 - mse: 0.0043 - val_loss: 0.0442 - val_mse: 0.0035\n",
            "Epoch 8/200\n",
            "201/201 [==============================] - 3s 16ms/step - loss: 0.0482 - mse: 0.0041 - val_loss: 0.0438 - val_mse: 0.0036\n",
            "Epoch 9/200\n",
            "201/201 [==============================] - 3s 16ms/step - loss: 0.0474 - mse: 0.0040 - val_loss: 0.0441 - val_mse: 0.0036\n",
            "Epoch 10/200\n",
            "201/201 [==============================] - 3s 15ms/step - loss: 0.0465 - mse: 0.0039 - val_loss: 0.0415 - val_mse: 0.0032\n",
            "Epoch 11/200\n",
            "201/201 [==============================] - 3s 16ms/step - loss: 0.0459 - mse: 0.0038 - val_loss: 0.0419 - val_mse: 0.0032\n",
            "Epoch 12/200\n",
            "201/201 [==============================] - 3s 16ms/step - loss: 0.0450 - mse: 0.0036 - val_loss: 0.0412 - val_mse: 0.0030\n",
            "Epoch 13/200\n",
            "201/201 [==============================] - 3s 16ms/step - loss: 0.0451 - mse: 0.0036 - val_loss: 0.0418 - val_mse: 0.0031\n",
            "Epoch 14/200\n",
            "201/201 [==============================] - 3s 16ms/step - loss: 0.0438 - mse: 0.0034 - val_loss: 0.0414 - val_mse: 0.0032\n",
            "Epoch 15/200\n",
            "201/201 [==============================] - 3s 16ms/step - loss: 0.0438 - mse: 0.0035 - val_loss: 0.0385 - val_mse: 0.0027\n",
            "Epoch 16/200\n",
            "201/201 [==============================] - 3s 16ms/step - loss: 0.0432 - mse: 0.0034 - val_loss: 0.0380 - val_mse: 0.0027\n",
            "Epoch 17/200\n",
            "201/201 [==============================] - 3s 16ms/step - loss: 0.0429 - mse: 0.0033 - val_loss: 0.0378 - val_mse: 0.0027\n",
            "Epoch 18/200\n",
            "201/201 [==============================] - 3s 16ms/step - loss: 0.0424 - mse: 0.0032 - val_loss: 0.0366 - val_mse: 0.0025\n",
            "Epoch 19/200\n",
            "201/201 [==============================] - 3s 15ms/step - loss: 0.0418 - mse: 0.0032 - val_loss: 0.0358 - val_mse: 0.0024\n",
            "Epoch 20/200\n",
            "201/201 [==============================] - 3s 15ms/step - loss: 0.0421 - mse: 0.0032 - val_loss: 0.0387 - val_mse: 0.0028\n",
            "Epoch 21/200\n",
            "201/201 [==============================] - 3s 15ms/step - loss: 0.0411 - mse: 0.0031 - val_loss: 0.0360 - val_mse: 0.0024\n",
            "Epoch 22/200\n",
            "201/201 [==============================] - 3s 15ms/step - loss: 0.0406 - mse: 0.0030 - val_loss: 0.0378 - val_mse: 0.0027\n",
            "Epoch 23/200\n",
            "201/201 [==============================] - 3s 15ms/step - loss: 0.0408 - mse: 0.0030 - val_loss: 0.0368 - val_mse: 0.0025\n",
            "\n",
            "Epoch 00023: ReduceLROnPlateau reducing learning rate to 0.0024999999441206455.\n",
            "Epoch 24/200\n",
            "201/201 [==============================] - 3s 15ms/step - loss: 0.0379 - mse: 0.0026 - val_loss: 0.0339 - val_mse: 0.0021\n",
            "Epoch 25/200\n",
            "201/201 [==============================] - 3s 15ms/step - loss: 0.0379 - mse: 0.0027 - val_loss: 0.0340 - val_mse: 0.0022\n",
            "Epoch 26/200\n",
            "201/201 [==============================] - 3s 15ms/step - loss: 0.0375 - mse: 0.0026 - val_loss: 0.0340 - val_mse: 0.0021\n",
            "Epoch 27/200\n",
            "201/201 [==============================] - 3s 16ms/step - loss: 0.0373 - mse: 0.0026 - val_loss: 0.0326 - val_mse: 0.0020\n",
            "Epoch 28/200\n",
            "201/201 [==============================] - 3s 15ms/step - loss: 0.0374 - mse: 0.0026 - val_loss: 0.0325 - val_mse: 0.0020\n",
            "Epoch 29/200\n",
            "201/201 [==============================] - 3s 15ms/step - loss: 0.0374 - mse: 0.0026 - val_loss: 0.0329 - val_mse: 0.0021\n",
            "Epoch 30/200\n",
            "201/201 [==============================] - 3s 15ms/step - loss: 0.0372 - mse: 0.0025 - val_loss: 0.0323 - val_mse: 0.0019\n",
            "Epoch 31/200\n",
            "201/201 [==============================] - 3s 16ms/step - loss: 0.0369 - mse: 0.0025 - val_loss: 0.0329 - val_mse: 0.0020\n",
            "Epoch 32/200\n",
            "201/201 [==============================] - 3s 16ms/step - loss: 0.0363 - mse: 0.0024 - val_loss: 0.0333 - val_mse: 0.0021\n",
            "\n",
            "Epoch 00032: ReduceLROnPlateau reducing learning rate to 0.0012499999720603228.\n",
            "Epoch 33/200\n",
            "201/201 [==============================] - 3s 16ms/step - loss: 0.0352 - mse: 0.0023 - val_loss: 0.0305 - val_mse: 0.0018\n",
            "Epoch 34/200\n",
            "201/201 [==============================] - 3s 16ms/step - loss: 0.0346 - mse: 0.0022 - val_loss: 0.0302 - val_mse: 0.0017\n",
            "Epoch 35/200\n",
            "201/201 [==============================] - 3s 16ms/step - loss: 0.0346 - mse: 0.0022 - val_loss: 0.0296 - val_mse: 0.0016\n",
            "Epoch 36/200\n",
            "201/201 [==============================] - 3s 16ms/step - loss: 0.0346 - mse: 0.0022 - val_loss: 0.0298 - val_mse: 0.0017\n",
            "Epoch 37/200\n",
            "201/201 [==============================] - 3s 17ms/step - loss: 0.0338 - mse: 0.0021 - val_loss: 0.0307 - val_mse: 0.0017\n",
            "Epoch 38/200\n",
            "201/201 [==============================] - 3s 16ms/step - loss: 0.0336 - mse: 0.0021 - val_loss: 0.0303 - val_mse: 0.0017\n",
            "\n",
            "Epoch 00038: ReduceLROnPlateau reducing learning rate to 0.0006249999860301614.\n",
            "Epoch 39/200\n",
            "201/201 [==============================] - 3s 16ms/step - loss: 0.0326 - mse: 0.0019 - val_loss: 0.0291 - val_mse: 0.0016\n",
            "Epoch 40/200\n",
            "201/201 [==============================] - 3s 16ms/step - loss: 0.0323 - mse: 0.0019 - val_loss: 0.0282 - val_mse: 0.0015\n",
            "Epoch 41/200\n",
            "201/201 [==============================] - 3s 15ms/step - loss: 0.0320 - mse: 0.0019 - val_loss: 0.0279 - val_mse: 0.0015\n",
            "Epoch 42/200\n",
            "201/201 [==============================] - 3s 16ms/step - loss: 0.0320 - mse: 0.0019 - val_loss: 0.0281 - val_mse: 0.0015\n",
            "Epoch 43/200\n",
            "201/201 [==============================] - 3s 16ms/step - loss: 0.0320 - mse: 0.0019 - val_loss: 0.0276 - val_mse: 0.0014\n",
            "Epoch 44/200\n",
            "201/201 [==============================] - 3s 16ms/step - loss: 0.0318 - mse: 0.0018 - val_loss: 0.0277 - val_mse: 0.0014\n",
            "Epoch 45/200\n",
            "201/201 [==============================] - 3s 15ms/step - loss: 0.0320 - mse: 0.0019 - val_loss: 0.0276 - val_mse: 0.0014\n",
            "Epoch 46/200\n",
            "201/201 [==============================] - 3s 15ms/step - loss: 0.0318 - mse: 0.0019 - val_loss: 0.0276 - val_mse: 0.0014\n",
            "\n",
            "Epoch 00046: ReduceLROnPlateau reducing learning rate to 0.0003124999930150807.\n",
            "Epoch 47/200\n",
            "201/201 [==============================] - 3s 15ms/step - loss: 0.0313 - mse: 0.0018 - val_loss: 0.0271 - val_mse: 0.0014\n",
            "Epoch 48/200\n",
            "201/201 [==============================] - 3s 15ms/step - loss: 0.0311 - mse: 0.0018 - val_loss: 0.0270 - val_mse: 0.0014\n",
            "Epoch 49/200\n",
            "201/201 [==============================] - 3s 15ms/step - loss: 0.0313 - mse: 0.0018 - val_loss: 0.0271 - val_mse: 0.0014\n",
            "Epoch 50/200\n",
            "201/201 [==============================] - 3s 15ms/step - loss: 0.0311 - mse: 0.0018 - val_loss: 0.0272 - val_mse: 0.0014\n",
            "Epoch 51/200\n",
            "201/201 [==============================] - 3s 15ms/step - loss: 0.0310 - mse: 0.0018 - val_loss: 0.0273 - val_mse: 0.0014\n",
            "\n",
            "Epoch 00051: ReduceLROnPlateau reducing learning rate to 0.00015624999650754035.\n",
            "Epoch 52/200\n",
            "201/201 [==============================] - 3s 15ms/step - loss: 0.0308 - mse: 0.0017 - val_loss: 0.0270 - val_mse: 0.0014\n",
            "Epoch 53/200\n",
            "201/201 [==============================] - 3s 16ms/step - loss: 0.0309 - mse: 0.0018 - val_loss: 0.0268 - val_mse: 0.0014\n",
            "Epoch 54/200\n",
            "201/201 [==============================] - 3s 17ms/step - loss: 0.0308 - mse: 0.0017 - val_loss: 0.0267 - val_mse: 0.0014\n",
            "Epoch 55/200\n",
            "201/201 [==============================] - 3s 17ms/step - loss: 0.0308 - mse: 0.0017 - val_loss: 0.0269 - val_mse: 0.0014\n",
            "Epoch 56/200\n",
            "201/201 [==============================] - 3s 17ms/step - loss: 0.0308 - mse: 0.0017 - val_loss: 0.0268 - val_mse: 0.0014\n",
            "Epoch 57/200\n",
            "201/201 [==============================] - 3s 16ms/step - loss: 0.0306 - mse: 0.0017 - val_loss: 0.0266 - val_mse: 0.0013\n",
            "Epoch 58/200\n",
            "201/201 [==============================] - 3s 16ms/step - loss: 0.0307 - mse: 0.0017 - val_loss: 0.0265 - val_mse: 0.0013\n",
            "\n",
            "Epoch 00058: ReduceLROnPlateau reducing learning rate to 7.812499825377017e-05.\n",
            "Epoch 59/200\n",
            "201/201 [==============================] - 3s 17ms/step - loss: 0.0306 - mse: 0.0017 - val_loss: 0.0265 - val_mse: 0.0013\n",
            "Epoch 60/200\n",
            "201/201 [==============================] - 3s 16ms/step - loss: 0.0306 - mse: 0.0017 - val_loss: 0.0266 - val_mse: 0.0013\n",
            "Epoch 61/200\n",
            "201/201 [==============================] - 3s 15ms/step - loss: 0.0305 - mse: 0.0017 - val_loss: 0.0265 - val_mse: 0.0013\n",
            "Epoch 62/200\n",
            "201/201 [==============================] - 3s 16ms/step - loss: 0.0305 - mse: 0.0017 - val_loss: 0.0265 - val_mse: 0.0013\n",
            "Epoch 63/200\n",
            "201/201 [==============================] - 3s 15ms/step - loss: 0.0305 - mse: 0.0017 - val_loss: 0.0266 - val_mse: 0.0013\n",
            "\n",
            "Epoch 00063: ReduceLROnPlateau reducing learning rate to 3.9062499126885086e-05.\n",
            "Epoch 64/200\n",
            "201/201 [==============================] - 3s 15ms/step - loss: 0.0305 - mse: 0.0017 - val_loss: 0.0265 - val_mse: 0.0013\n",
            "Epoch 65/200\n",
            "201/201 [==============================] - 3s 16ms/step - loss: 0.0305 - mse: 0.0017 - val_loss: 0.0265 - val_mse: 0.0013\n",
            "Epoch 66/200\n",
            "201/201 [==============================] - 3s 16ms/step - loss: 0.0305 - mse: 0.0017 - val_loss: 0.0264 - val_mse: 0.0013\n",
            "Epoch 67/200\n",
            "201/201 [==============================] - 3s 16ms/step - loss: 0.0305 - mse: 0.0017 - val_loss: 0.0264 - val_mse: 0.0013\n",
            "Epoch 68/200\n",
            "201/201 [==============================] - 3s 15ms/step - loss: 0.0305 - mse: 0.0017 - val_loss: 0.0264 - val_mse: 0.0013\n",
            "\n",
            "Epoch 00068: ReduceLROnPlateau reducing learning rate to 1.9531249563442543e-05.\n",
            "Epoch 69/200\n",
            "201/201 [==============================] - 3s 15ms/step - loss: 0.0303 - mse: 0.0017 - val_loss: 0.0264 - val_mse: 0.0013\n",
            "Epoch 00069: early stopping\n",
            "Total training time:  225.37410807609558\n"
          ],
          "name": "stdout"
        }
      ]
    },
    {
      "cell_type": "code",
      "metadata": {
        "colab": {
          "base_uri": "https://localhost:8080/",
          "height": 374
        },
        "id": "gObNyktsAUG4",
        "outputId": "6c16683a-946c-4574-abd1-8692ca942ab0"
      },
      "source": [
        "custom_plots.loss_plot(r, 'LSTM', color = 'b')"
      ],
      "id": "gObNyktsAUG4",
      "execution_count": 14,
      "outputs": [
        {
          "output_type": "display_data",
          "data": {
            "image/png": "[encoded data removed]",
            "text/plain": [
              "<Figure size 1296x432 with 2 Axes>"
            ]
          },
          "metadata": {
            "tags": [],
            "needs_background": "light"
          }
        }
      ]
    },
    {
      "cell_type": "code",
      "metadata": {
        "colab": {
          "base_uri": "https://localhost:8080/"
        },
        "id": "TGg6Bu0mBHi0",
        "outputId": "bc6dd5ad-67c1-4a6a-bb8c-d086ebb09025"
      },
      "source": [
        "def print_metrics(y,ypred,dataset):\n",
        "  y = scy.inverse_transform(y) \n",
        "  ypred = scy.inverse_transform(ypred)\n",
        "  print(f'{dataset}\\t\\tRMSE:{mean_squared_error(y,ypred)**0.5:.3f}\\tMAE:{mean_absolute_error(y,ypred):.3f}\\tR2:{r2_score(y,ypred):.3f}')\n",
        "\n",
        "print_metrics(Ytra.reshape(-1,1),model.predict(Xtra).reshape(-1,1),'Train')\n",
        "print_metrics(Yval.reshape(-1,1),model.predict(Xval).reshape(-1,1),'Val')\n",
        "print_metrics(Ytest.reshape(-1,1),model.predict(Xtest).reshape(-1,1),'Test')"
      ],
      "id": "TGg6Bu0mBHi0",
      "execution_count": 15,
      "outputs": [
        {
          "output_type": "stream",
          "text": [
            "Train\t\tRMSE:35.824\tMAE:25.975\tR2:0.967\n",
            "Val\t\tRMSE:36.342\tMAE:26.378\tR2:0.965\n",
            "Test\t\tRMSE:58.299\tMAE:43.465\tR2:0.907\n"
          ],
          "name": "stdout"
        }
      ]
    },
    {
      "cell_type": "code",
      "metadata": {
        "id": "PTa08QJKTObq"
      },
      "source": [
        "Y_hatval = model.predict(Xval)\n",
        "Y_val = scy.inverse_transform(Yval)\n",
        "Yhatval = scy.inverse_transform(Y_hatval)\n",
        "dat1y1 = pd.DataFrame(Y_val)\n",
        "dat2y1 = pd.DataFrame(Yhatval)\n",
        "e = 100*np.sum(np.abs((dat1y1 - dat2y1)/np.mean(dat1y1, axis = 0)), axis = 0)/len(dat1y1)\n",
        "print(f'MAE% Y1 = {e.mean()}')"
      ],
      "id": "PTa08QJKTObq",
      "execution_count": 17,
      "outputs": []
    },
    {
      "cell_type": "code",
      "metadata": {
        "id": "37yFiMWfTTLE"
      },
      "source": [
        "Y_hat = model.predict(Xtest)\n",
        "Y_test = scy.inverse_transform(Ytest)\n",
        "Yhat = scy.inverse_transform(Y_hat)\n",
        "dat1y2 = pd.DataFrame(Y_test)\n",
        "dat2y2 = pd.DataFrame(Yhat)\n",
        "e = 100*np.sum(np.abs((dat1y2 - dat2y2)/np.mean(dat1y2, axis = 0)), axis = 0)/len(dat1y2)\n",
        "print(f'MAE% Y2 = {e.mean()}')"
      ],
      "id": "37yFiMWfTTLE",
      "execution_count": 20,
      "outputs": []
    }
  ]
}